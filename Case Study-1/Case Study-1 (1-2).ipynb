{
 "cells": [
  {
   "cell_type": "markdown",
   "id": "2819a9df",
   "metadata": {},
   "source": [
    "# Ass-1 [Number of Fundings]"
   ]
  },
  {
   "cell_type": "markdown",
   "id": "b8f57529",
   "metadata": {},
   "source": [
    "Given File 'startup_funding.csv'\n",
    "\n",
    "Problem Statement :\n",
    "Check the trend of investments over the years. To check the trend, find -\n",
    "\n",
    "Total number of fundings done in each year.\n",
    "\n",
    "Plot a line graph between year and number of fundings.\n",
    "\n",
    "Take year on x-axis and number of fundings on y-axis.\n",
    "\n",
    "Print year-wise total number of fundings also. Print years in ascending order.\n",
    "\n",
    "Note :\n",
    "    \n",
    "There is some error in the 'Date' feature. Make sure to handle that.\n",
    "\n",
    "Output Format :\n",
    "year1 TotalFunding1\n",
    "year2 TotalFunding2\n",
    ". . . "
   ]
  },
  {
   "cell_type": "code",
   "execution_count": 1,
   "id": "e6798f2a",
   "metadata": {},
   "outputs": [],
   "source": [
    "import numpy as np\n",
    "import pandas as pd\n",
    "import matplotlib.pyplot as plt"
   ]
  },
  {
   "cell_type": "code",
   "execution_count": 2,
   "id": "60a7edbb",
   "metadata": {},
   "outputs": [],
   "source": [
    "data = pd.read_csv(\"C://Users//91902//Desktop//Datasets//startup_funding.csv\", parse_dates = ['Date'])\n",
    "df = data.copy()"
   ]
  },
  {
   "cell_type": "code",
   "execution_count": 3,
   "id": "a640df00",
   "metadata": {},
   "outputs": [
    {
     "data": {
      "text/html": [
       "<div>\n",
       "<style scoped>\n",
       "    .dataframe tbody tr th:only-of-type {\n",
       "        vertical-align: middle;\n",
       "    }\n",
       "\n",
       "    .dataframe tbody tr th {\n",
       "        vertical-align: top;\n",
       "    }\n",
       "\n",
       "    .dataframe thead th {\n",
       "        text-align: right;\n",
       "    }\n",
       "</style>\n",
       "<table border=\"1\" class=\"dataframe\">\n",
       "  <thead>\n",
       "    <tr style=\"text-align: right;\">\n",
       "      <th></th>\n",
       "      <th>SNo</th>\n",
       "      <th>Date</th>\n",
       "      <th>StartupName</th>\n",
       "      <th>IndustryVertical</th>\n",
       "      <th>SubVertical</th>\n",
       "      <th>CityLocation</th>\n",
       "      <th>InvestorsName</th>\n",
       "      <th>InvestmentType</th>\n",
       "      <th>AmountInUSD</th>\n",
       "      <th>Remarks</th>\n",
       "    </tr>\n",
       "  </thead>\n",
       "  <tbody>\n",
       "    <tr>\n",
       "      <th>2367</th>\n",
       "      <td>2367</td>\n",
       "      <td>29/01/2015</td>\n",
       "      <td>Printvenue</td>\n",
       "      <td>NaN</td>\n",
       "      <td>NaN</td>\n",
       "      <td>NaN</td>\n",
       "      <td>Asia Pacific Internet Group</td>\n",
       "      <td>Private Equity</td>\n",
       "      <td>4,500,000</td>\n",
       "      <td>NaN</td>\n",
       "    </tr>\n",
       "    <tr>\n",
       "      <th>2368</th>\n",
       "      <td>2368</td>\n",
       "      <td>29/01/2015</td>\n",
       "      <td>Graphene</td>\n",
       "      <td>NaN</td>\n",
       "      <td>NaN</td>\n",
       "      <td>NaN</td>\n",
       "      <td>KARSEMVEN Fund</td>\n",
       "      <td>Private Equity</td>\n",
       "      <td>825,000</td>\n",
       "      <td>Govt backed VC Fund</td>\n",
       "    </tr>\n",
       "    <tr>\n",
       "      <th>2369</th>\n",
       "      <td>2369</td>\n",
       "      <td>30/01/2015</td>\n",
       "      <td>Mad Street Den</td>\n",
       "      <td>NaN</td>\n",
       "      <td>NaN</td>\n",
       "      <td>NaN</td>\n",
       "      <td>Exfinity Fund, GrowX Ventures.</td>\n",
       "      <td>Private Equity</td>\n",
       "      <td>1,500,000</td>\n",
       "      <td>NaN</td>\n",
       "    </tr>\n",
       "    <tr>\n",
       "      <th>2370</th>\n",
       "      <td>2370</td>\n",
       "      <td>30/01/2015</td>\n",
       "      <td>Simplotel</td>\n",
       "      <td>NaN</td>\n",
       "      <td>NaN</td>\n",
       "      <td>NaN</td>\n",
       "      <td>MakeMyTrip</td>\n",
       "      <td>Private Equity</td>\n",
       "      <td>NaN</td>\n",
       "      <td>Strategic Funding, Minority stake</td>\n",
       "    </tr>\n",
       "    <tr>\n",
       "      <th>2371</th>\n",
       "      <td>2371</td>\n",
       "      <td>31/01/2015</td>\n",
       "      <td>couponmachine.in</td>\n",
       "      <td>NaN</td>\n",
       "      <td>NaN</td>\n",
       "      <td>NaN</td>\n",
       "      <td>UK based Group of Angel Investors</td>\n",
       "      <td>Seed Funding</td>\n",
       "      <td>140,000</td>\n",
       "      <td>NaN</td>\n",
       "    </tr>\n",
       "  </tbody>\n",
       "</table>\n",
       "</div>"
      ],
      "text/plain": [
       "       SNo        Date       StartupName IndustryVertical SubVertical  \\\n",
       "2367  2367  29/01/2015        Printvenue              NaN         NaN   \n",
       "2368  2368  29/01/2015          Graphene              NaN         NaN   \n",
       "2369  2369  30/01/2015    Mad Street Den              NaN         NaN   \n",
       "2370  2370  30/01/2015         Simplotel              NaN         NaN   \n",
       "2371  2371  31/01/2015  couponmachine.in              NaN         NaN   \n",
       "\n",
       "     CityLocation                      InvestorsName  InvestmentType  \\\n",
       "2367          NaN        Asia Pacific Internet Group  Private Equity   \n",
       "2368          NaN                     KARSEMVEN Fund  Private Equity   \n",
       "2369          NaN     Exfinity Fund, GrowX Ventures.  Private Equity   \n",
       "2370          NaN                         MakeMyTrip  Private Equity   \n",
       "2371          NaN  UK based Group of Angel Investors    Seed Funding   \n",
       "\n",
       "     AmountInUSD                            Remarks  \n",
       "2367   4,500,000                                NaN  \n",
       "2368     825,000                Govt backed VC Fund  \n",
       "2369   1,500,000                                NaN  \n",
       "2370         NaN  Strategic Funding, Minority stake  \n",
       "2371     140,000                                NaN  "
      ]
     },
     "execution_count": 3,
     "metadata": {},
     "output_type": "execute_result"
    }
   ],
   "source": [
    "df.tail()"
   ]
  },
  {
   "cell_type": "code",
   "execution_count": 4,
   "id": "a705f1c7",
   "metadata": {},
   "outputs": [],
   "source": [
    "df['Date'].fillna(method = 'ffill', inplace = True)"
   ]
  },
  {
   "cell_type": "code",
   "execution_count": 5,
   "id": "366c7690",
   "metadata": {},
   "outputs": [],
   "source": [
    "df[df['Date'] == '22/01//2015'] = df[df['Date'] == '22/01/2015']"
   ]
  },
  {
   "cell_type": "code",
   "execution_count": 6,
   "id": "bb03af27",
   "metadata": {},
   "outputs": [],
   "source": [
    "yr = df['Date'].values"
   ]
  },
  {
   "cell_type": "code",
   "execution_count": 7,
   "id": "31d012bd",
   "metadata": {},
   "outputs": [],
   "source": [
    "year = []\n",
    "for row in yr:\n",
    "    val = str(row).split('/')[-1] or str(row).split('.')[-1]\n",
    "    year.append(val)"
   ]
  },
  {
   "cell_type": "code",
   "execution_count": 8,
   "id": "e0e77e4a",
   "metadata": {},
   "outputs": [],
   "source": [
    "Year = {}\n",
    "for key in year:\n",
    "    if key == '05.2015' or key == '04.2015' or  key == '01.2015' or key == 'nan':\n",
    "        key = '2015'\n",
    "    if key in Year:\n",
    "        Year[key] += 1\n",
    "    else:\n",
    "        Year[key] = 1"
   ]
  },
  {
   "cell_type": "code",
   "execution_count": 9,
   "id": "42f0e6ba",
   "metadata": {},
   "outputs": [
    {
     "name": "stdout",
     "output_type": "stream",
     "text": [
      "2017\n",
      "2016\n",
      "2015\n"
     ]
    }
   ],
   "source": [
    "for val in Year:\n",
    "    print(val)"
   ]
  },
  {
   "cell_type": "code",
   "execution_count": 10,
   "id": "a94eb793",
   "metadata": {},
   "outputs": [],
   "source": [
    "x = []\n",
    "y = []\n",
    "for key in Year:\n",
    "    x.append(key)\n",
    "    y.append(Year[key])"
   ]
  },
  {
   "cell_type": "code",
   "execution_count": 11,
   "id": "5a895820",
   "metadata": {},
   "outputs": [
    {
     "data": {
      "text/plain": [
       "['2017', '2016', '2015']"
      ]
     },
     "execution_count": 11,
     "metadata": {},
     "output_type": "execute_result"
    }
   ],
   "source": [
    "x"
   ]
  },
  {
   "cell_type": "code",
   "execution_count": 12,
   "id": "d0147184",
   "metadata": {},
   "outputs": [
    {
     "data": {
      "text/plain": [
       "[443, 993, 936]"
      ]
     },
     "execution_count": 12,
     "metadata": {},
     "output_type": "execute_result"
    }
   ],
   "source": [
    "y"
   ]
  },
  {
   "cell_type": "code",
   "execution_count": 13,
   "id": "e9b8b66d",
   "metadata": {},
   "outputs": [
    {
     "data": {
      "image/png": "[encoded data removed]",
      "text/plain": [
       "<Figure size 432x288 with 1 Axes>"
      ]
     },
     "metadata": {
      "needs_background": "light"
     },
     "output_type": "display_data"
    }
   ],
   "source": [
    "plt.plot(x, y, label = 'startup_funding')\n",
    "plt.xlabel(\"Year\")\n",
    "plt.ylabel(\"Fundings\")\n",
    "plt.grid()\n",
    "plt.legend()\n",
    "plt.show()"
   ]
  },
  {
   "cell_type": "code",
   "execution_count": 421,
   "id": "33aac854",
   "metadata": {},
   "outputs": [
    {
     "name": "stdout",
     "output_type": "stream",
     "text": [
      "2015 936\n",
      "2016 993\n",
      "2017 443\n"
     ]
    }
   ],
   "source": [
    "for i in range(len(x)-1, -1, -1):\n",
    "    print(x[i], y[i])"
   ]
  },
  {
   "cell_type": "code",
   "execution_count": 14,
   "id": "6fdd529b",
   "metadata": {},
   "outputs": [
    {
     "data": {
      "image/png": "[encoded data removed]",
      "text/plain": [
       "<Figure size 432x288 with 1 Axes>"
      ]
     },
     "metadata": {
      "needs_background": "light"
     },
     "output_type": "display_data"
    },
    {
     "name": "stdout",
     "output_type": "stream",
     "text": [
      "2015 936\n",
      "2016 993\n",
      "2017 443\n"
     ]
    }
   ],
   "source": [
    "\n",
    "import pandas as pd\n",
    "import matplotlib.pyplot as plt\n",
    "\n",
    "data = pd.read_csv(\"C://Users//91902//Desktop//Datasets//startup_funding.csv\", parse_dates = ['Date'])\n",
    "df = data.copy()\n",
    "\n",
    "#filling nan value in date column\n",
    "df['Date'].fillna(method = 'ffill', inplace = True)\n",
    "df['Date'].isnull().sum()\n",
    "\n",
    "#handle some error in date column\n",
    "df[df['Date'] == '22/01//2015'] = df[df['Date'] == '22/01/2015']\n",
    "\n",
    "# date column convert into nd.array\n",
    "yr = df['Date'].values\n",
    "\n",
    "year = []\n",
    "for row in yr:\n",
    "    val = str(row).split('/')[-1] or str(row).split('.')[-1]\n",
    "    year.append(val)\n",
    "    \n",
    "Year = {}\n",
    "for key in year:\n",
    "    if key == '05.2015' or key == '04.2015' or  key == '01.2015' or key == 'nan':\n",
    "        key = '2015'\n",
    "    if key in Year:\n",
    "        Year[key] += 1\n",
    "    else:\n",
    "        Year[key] = 1\n",
    "        \n",
    "x = []\n",
    "y = []\n",
    "for key in Year:\n",
    "    x.append(key)\n",
    "    y.append(Year[key])\n",
    "    \n",
    "plt.plot(x, y, label = 'startup_funding')\n",
    "plt.xlabel(\"Year\")\n",
    "plt.ylabel(\"Fundings\")\n",
    "plt.legend()\n",
    "plt.show()\n",
    "\n",
    "for i in range(len(x)-1, -1, -1):\n",
    "    print(x[i], y[i])"
   ]
  },
  {
   "cell_type": "markdown",
   "id": "1dff12d2",
   "metadata": {},
   "source": [
    "# Ass-[Top Indian Cities]"
   ]
  },
  {
   "cell_type": "markdown",
   "id": "52ef681e",
   "metadata": {},
   "source": [
    "Given File 'startup_funding.csv'\n",
    "\n",
    "Problem Statement :\n",
    "    \n",
    "Find out which cities are generally chosen for starting a startup.\n",
    "\n",
    "Find top 10 Indian cities which have most number of startups ?\n",
    "\n",
    "Plot a pie chart and visualise it.\n",
    "\n",
    "Print the city name and number of startups in that city also.\n",
    "\n",
    "Note :\n",
    "Take city name \"Delhi\" as \"New Delhi\".\n",
    "\n",
    "Check the case-sensitiveness of cities also. That means - at some place, \n",
    "\n",
    "instead of \"Bangalore\", \"bangalore\" is given. Take city name as \"Bangalore\".\n",
    "\n",
    "For few startups multiple locations are given, one Indian and one Foreign.\n",
    "\n",
    "Count those startups in Indian startup also. Indian city name is first.\n",
    "\n",
    "Print the city in descending order with respect to the number of startups.\n",
    "\n",
    "Output Format :\n",
    "city1 number1\n",
    "city2 number2\n",
    ". . . \n"
   ]
  },
  {
   "cell_type": "code",
   "execution_count": 2,
   "id": "793cebf3",
   "metadata": {},
   "outputs": [],
   "source": [
    "import numpy as np\n",
    "import pandas as pd\n",
    "import matplotlib.pyplot as plt\n",
    "\n",
    "data = pd.read_csv(\"C://Users//91902//Desktop//Datasets//startup_funding.csv\", parse_dates = ['Date'])\n",
    "df = data.copy()"
   ]
  },
  {
   "cell_type": "code",
   "execution_count": 286,
   "id": "d08980d1",
   "metadata": {
    "scrolled": true
   },
   "outputs": [
    {
     "data": {
      "text/html": [
       "<div>\n",
       "<style scoped>\n",
       "    .dataframe tbody tr th:only-of-type {\n",
       "        vertical-align: middle;\n",
       "    }\n",
       "\n",
       "    .dataframe tbody tr th {\n",
       "        vertical-align: top;\n",
       "    }\n",
       "\n",
       "    .dataframe thead th {\n",
       "        text-align: right;\n",
       "    }\n",
       "</style>\n",
       "<table border=\"1\" class=\"dataframe\">\n",
       "  <thead>\n",
       "    <tr style=\"text-align: right;\">\n",
       "      <th></th>\n",
       "      <th>SNo</th>\n",
       "      <th>Date</th>\n",
       "      <th>StartupName</th>\n",
       "      <th>IndustryVertical</th>\n",
       "      <th>SubVertical</th>\n",
       "      <th>CityLocation</th>\n",
       "      <th>InvestorsName</th>\n",
       "      <th>InvestmentType</th>\n",
       "      <th>AmountInUSD</th>\n",
       "      <th>Remarks</th>\n",
       "    </tr>\n",
       "  </thead>\n",
       "  <tbody>\n",
       "    <tr>\n",
       "      <th>2367</th>\n",
       "      <td>2367</td>\n",
       "      <td>29/01/2015</td>\n",
       "      <td>Printvenue</td>\n",
       "      <td>NaN</td>\n",
       "      <td>NaN</td>\n",
       "      <td>NaN</td>\n",
       "      <td>Asia Pacific Internet Group</td>\n",
       "      <td>Private Equity</td>\n",
       "      <td>4,500,000</td>\n",
       "      <td>NaN</td>\n",
       "    </tr>\n",
       "    <tr>\n",
       "      <th>2368</th>\n",
       "      <td>2368</td>\n",
       "      <td>29/01/2015</td>\n",
       "      <td>Graphene</td>\n",
       "      <td>NaN</td>\n",
       "      <td>NaN</td>\n",
       "      <td>NaN</td>\n",
       "      <td>KARSEMVEN Fund</td>\n",
       "      <td>Private Equity</td>\n",
       "      <td>825,000</td>\n",
       "      <td>Govt backed VC Fund</td>\n",
       "    </tr>\n",
       "    <tr>\n",
       "      <th>2369</th>\n",
       "      <td>2369</td>\n",
       "      <td>30/01/2015</td>\n",
       "      <td>Mad Street Den</td>\n",
       "      <td>NaN</td>\n",
       "      <td>NaN</td>\n",
       "      <td>NaN</td>\n",
       "      <td>Exfinity Fund, GrowX Ventures.</td>\n",
       "      <td>Private Equity</td>\n",
       "      <td>1,500,000</td>\n",
       "      <td>NaN</td>\n",
       "    </tr>\n",
       "    <tr>\n",
       "      <th>2370</th>\n",
       "      <td>2370</td>\n",
       "      <td>30/01/2015</td>\n",
       "      <td>Simplotel</td>\n",
       "      <td>NaN</td>\n",
       "      <td>NaN</td>\n",
       "      <td>NaN</td>\n",
       "      <td>MakeMyTrip</td>\n",
       "      <td>Private Equity</td>\n",
       "      <td>NaN</td>\n",
       "      <td>Strategic Funding, Minority stake</td>\n",
       "    </tr>\n",
       "    <tr>\n",
       "      <th>2371</th>\n",
       "      <td>2371</td>\n",
       "      <td>31/01/2015</td>\n",
       "      <td>couponmachine.in</td>\n",
       "      <td>NaN</td>\n",
       "      <td>NaN</td>\n",
       "      <td>NaN</td>\n",
       "      <td>UK based Group of Angel Investors</td>\n",
       "      <td>Seed Funding</td>\n",
       "      <td>140,000</td>\n",
       "      <td>NaN</td>\n",
       "    </tr>\n",
       "  </tbody>\n",
       "</table>\n",
       "</div>"
      ],
      "text/plain": [
       "       SNo        Date       StartupName IndustryVertical SubVertical  \\\n",
       "2367  2367  29/01/2015        Printvenue              NaN         NaN   \n",
       "2368  2368  29/01/2015          Graphene              NaN         NaN   \n",
       "2369  2369  30/01/2015    Mad Street Den              NaN         NaN   \n",
       "2370  2370  30/01/2015         Simplotel              NaN         NaN   \n",
       "2371  2371  31/01/2015  couponmachine.in              NaN         NaN   \n",
       "\n",
       "     CityLocation                      InvestorsName  InvestmentType  \\\n",
       "2367          NaN        Asia Pacific Internet Group  Private Equity   \n",
       "2368          NaN                     KARSEMVEN Fund  Private Equity   \n",
       "2369          NaN     Exfinity Fund, GrowX Ventures.  Private Equity   \n",
       "2370          NaN                         MakeMyTrip  Private Equity   \n",
       "2371          NaN  UK based Group of Angel Investors    Seed Funding   \n",
       "\n",
       "     AmountInUSD                            Remarks  \n",
       "2367   4,500,000                                NaN  \n",
       "2368     825,000                Govt backed VC Fund  \n",
       "2369   1,500,000                                NaN  \n",
       "2370         NaN  Strategic Funding, Minority stake  \n",
       "2371     140,000                                NaN  "
      ]
     },
     "execution_count": 286,
     "metadata": {},
     "output_type": "execute_result"
    }
   ],
   "source": [
    "df.tail()"
   ]
  },
  {
   "cell_type": "code",
   "execution_count": 287,
   "id": "e3046ee1",
   "metadata": {},
   "outputs": [
    {
     "data": {
      "text/html": [
       "<div>\n",
       "<style scoped>\n",
       "    .dataframe tbody tr th:only-of-type {\n",
       "        vertical-align: middle;\n",
       "    }\n",
       "\n",
       "    .dataframe tbody tr th {\n",
       "        vertical-align: top;\n",
       "    }\n",
       "\n",
       "    .dataframe thead th {\n",
       "        text-align: right;\n",
       "    }\n",
       "</style>\n",
       "<table border=\"1\" class=\"dataframe\">\n",
       "  <thead>\n",
       "    <tr style=\"text-align: right;\">\n",
       "      <th></th>\n",
       "      <th>SNo</th>\n",
       "      <th>Date</th>\n",
       "      <th>StartupName</th>\n",
       "      <th>IndustryVertical</th>\n",
       "      <th>SubVertical</th>\n",
       "      <th>CityLocation</th>\n",
       "      <th>InvestorsName</th>\n",
       "      <th>InvestmentType</th>\n",
       "      <th>AmountInUSD</th>\n",
       "      <th>Remarks</th>\n",
       "    </tr>\n",
       "  </thead>\n",
       "  <tbody>\n",
       "    <tr>\n",
       "      <th>0</th>\n",
       "      <td>0</td>\n",
       "      <td>01/08/2017</td>\n",
       "      <td>TouchKin</td>\n",
       "      <td>Technology</td>\n",
       "      <td>Predictive Care Platform</td>\n",
       "      <td>Bangalore</td>\n",
       "      <td>Kae Capital</td>\n",
       "      <td>Private Equity</td>\n",
       "      <td>1,300,000</td>\n",
       "      <td>NaN</td>\n",
       "    </tr>\n",
       "    <tr>\n",
       "      <th>1</th>\n",
       "      <td>1</td>\n",
       "      <td>02/08/2017</td>\n",
       "      <td>Ethinos</td>\n",
       "      <td>Technology</td>\n",
       "      <td>Digital Marketing Agency</td>\n",
       "      <td>Mumbai</td>\n",
       "      <td>Triton Investment Advisors</td>\n",
       "      <td>Private Equity</td>\n",
       "      <td>NaN</td>\n",
       "      <td>NaN</td>\n",
       "    </tr>\n",
       "    <tr>\n",
       "      <th>2</th>\n",
       "      <td>2</td>\n",
       "      <td>02/08/2017</td>\n",
       "      <td>Leverage Edu</td>\n",
       "      <td>Consumer Internet</td>\n",
       "      <td>Online platform for Higher Education Services</td>\n",
       "      <td>New Delhi</td>\n",
       "      <td>Kashyap Deorah, Anand Sankeshwar, Deepak Jain,...</td>\n",
       "      <td>Seed Funding</td>\n",
       "      <td>NaN</td>\n",
       "      <td>NaN</td>\n",
       "    </tr>\n",
       "    <tr>\n",
       "      <th>3</th>\n",
       "      <td>3</td>\n",
       "      <td>02/08/2017</td>\n",
       "      <td>Zepo</td>\n",
       "      <td>Consumer Internet</td>\n",
       "      <td>DIY Ecommerce platform</td>\n",
       "      <td>Mumbai</td>\n",
       "      <td>Kunal Shah, LetsVenture, Anupam Mittal, Hetal ...</td>\n",
       "      <td>Seed Funding</td>\n",
       "      <td>500,000</td>\n",
       "      <td>NaN</td>\n",
       "    </tr>\n",
       "    <tr>\n",
       "      <th>4</th>\n",
       "      <td>4</td>\n",
       "      <td>02/08/2017</td>\n",
       "      <td>Click2Clinic</td>\n",
       "      <td>Consumer Internet</td>\n",
       "      <td>healthcare service aggregator</td>\n",
       "      <td>Hyderabad</td>\n",
       "      <td>Narottam Thudi, Shireesh Palle</td>\n",
       "      <td>Seed Funding</td>\n",
       "      <td>850,000</td>\n",
       "      <td>NaN</td>\n",
       "    </tr>\n",
       "  </tbody>\n",
       "</table>\n",
       "</div>"
      ],
      "text/plain": [
       "   SNo        Date   StartupName   IndustryVertical  \\\n",
       "0    0  01/08/2017      TouchKin         Technology   \n",
       "1    1  02/08/2017       Ethinos         Technology   \n",
       "2    2  02/08/2017  Leverage Edu  Consumer Internet   \n",
       "3    3  02/08/2017          Zepo  Consumer Internet   \n",
       "4    4  02/08/2017  Click2Clinic  Consumer Internet   \n",
       "\n",
       "                                     SubVertical CityLocation  \\\n",
       "0                       Predictive Care Platform    Bangalore   \n",
       "1                       Digital Marketing Agency       Mumbai   \n",
       "2  Online platform for Higher Education Services    New Delhi   \n",
       "3                         DIY Ecommerce platform       Mumbai   \n",
       "4                  healthcare service aggregator    Hyderabad   \n",
       "\n",
       "                                       InvestorsName  InvestmentType  \\\n",
       "0                                        Kae Capital  Private Equity   \n",
       "1                         Triton Investment Advisors  Private Equity   \n",
       "2  Kashyap Deorah, Anand Sankeshwar, Deepak Jain,...    Seed Funding   \n",
       "3  Kunal Shah, LetsVenture, Anupam Mittal, Hetal ...    Seed Funding   \n",
       "4                     Narottam Thudi, Shireesh Palle    Seed Funding   \n",
       "\n",
       "  AmountInUSD Remarks  \n",
       "0   1,300,000     NaN  \n",
       "1         NaN     NaN  \n",
       "2         NaN     NaN  \n",
       "3     500,000     NaN  \n",
       "4     850,000     NaN  "
      ]
     },
     "execution_count": 287,
     "metadata": {},
     "output_type": "execute_result"
    }
   ],
   "source": [
    "df.head()"
   ]
  },
  {
   "cell_type": "code",
   "execution_count": 3,
   "id": "0aa7b541",
   "metadata": {},
   "outputs": [],
   "source": [
    "c = df['CityLocation'].values\n",
    "np_c = np.array(c)\n",
    "np_c = np_c[np_c != '']\n",
    "\n",
    "for i in range(len(np_c)):\n",
    "    if type(np_c[i]) != float :\n",
    "        \n",
    "        if 'bangalore' in np_c[i]:\n",
    "            np_c[i] = 'Bangalore'\n",
    "        if 'Delhi' in np_c[i]:\n",
    "            np_c[i] = 'New Delhi'\n",
    "        \n",
    "        \n",
    "for i in range(len(np_c)):\n",
    "    if type(np_c[i]) != float:\n",
    "        np_c[i] = np_c[i].split('/')[0].strip()"
   ]
  },
  {
   "cell_type": "code",
   "execution_count": 7,
   "id": "34282679",
   "metadata": {},
   "outputs": [
    {
     "data": {
      "text/plain": [
       "48"
      ]
     },
     "execution_count": 7,
     "metadata": {},
     "output_type": "execute_result"
    }
   ],
   "source": [
    "city = {}\n",
    "for row in np_c :\n",
    "    if row in city:\n",
    "        city[row] += 1 \n",
    "    else:\n",
    "        city[row] = 1\n"
   ]
  },
  {
   "cell_type": "code",
   "execution_count": 348,
   "id": "b0560aa4",
   "metadata": {},
   "outputs": [],
   "source": [
    "x = []\n",
    "y = []\n",
    "for c in city:\n",
    "    if type(c) != float :\n",
    "        x.append(c)\n",
    "        y.append(city[c])\n",
    "\n",
    "np_x = np.array(x)\n",
    "np_y = np.array(y)"
   ]
  },
  {
   "cell_type": "code",
   "execution_count": 349,
   "id": "3e2987f1",
   "metadata": {},
   "outputs": [],
   "source": [
    "np_x = np_x[np.argsort(np_y)]\n",
    "np_y = np.sort(np_y)"
   ]
  },
  {
   "cell_type": "code",
   "execution_count": 350,
   "id": "02a29c8c",
   "metadata": {
    "scrolled": true
   },
   "outputs": [
    {
     "name": "stdout",
     "output_type": "stream",
     "text": [
      "['Dallas' 'Kozhikode' 'Kerala' 'Hubli' 'Udaipur' 'Lucknow' 'Karur'\n",
      " 'Panaji' 'Surat' 'SFO' 'London' 'Missourie' 'Boston' 'Varanasi' 'India'\n",
      " 'Nagpur' 'New York' 'Jodhpur' 'Belgaum' 'Seattle' 'US' 'Agra'\n",
      " 'Trivandrum' 'Kochi' 'Udupi' 'Gwalior' 'Bhopal' 'Siliguri' 'USA'\n",
      " 'Coimbatore' 'Kanpur' 'Singapore' 'Goa' 'Vadodara' 'Indore' 'Chandigarh'\n",
      " 'Kolkata' 'Jaipur' 'Ahmedabad' 'Chennai' 'Hyderabad' 'Noida' 'Pune'\n",
      " 'Gurgaon' 'New Delhi' 'Mumbai' 'Bangalore']\n",
      "[  1   1   1   1   1   1   1   1   1   1   1   1   1   1   1   1   1   1\n",
      "   1   1   2   2   2   2   2   2   2   2   2   3   4   5   8   9   9  10\n",
      "  19  25  35  67  77  79  91 241 389 449 635]\n"
     ]
    }
   ],
   "source": [
    "print(np_x)\n",
    "print(np_y)"
   ]
  },
  {
   "cell_type": "code",
   "execution_count": 351,
   "id": "7748d13a",
   "metadata": {},
   "outputs": [],
   "source": [
    "np_x = np_x[len(np_x)-1: len(np_x) -11 : -1]\n",
    "np_y = np_y[len(np_y)-1: len(np_y) -11 : -1]"
   ]
  },
  {
   "cell_type": "code",
   "execution_count": 352,
   "id": "cb2d8cff",
   "metadata": {},
   "outputs": [
    {
     "name": "stdout",
     "output_type": "stream",
     "text": [
      "['Bangalore' 'Mumbai' 'New Delhi' 'Gurgaon' 'Pune' 'Noida' 'Hyderabad'\n",
      " 'Chennai' 'Ahmedabad' 'Jaipur']\n",
      "[635 449 389 241  91  79  77  67  35  25]\n"
     ]
    }
   ],
   "source": [
    "print(np_x)\n",
    "print(np_y)"
   ]
  },
  {
   "cell_type": "code",
   "execution_count": 357,
   "id": "01c4a884",
   "metadata": {},
   "outputs": [
    {
     "data": {
      "image/png": "[encoded data removed]",
      "text/plain": [
       "<Figure size 432x288 with 1 Axes>"
      ]
     },
     "metadata": {},
     "output_type": "display_data"
    }
   ],
   "source": [
    "explode = [0.1,0.1,0.1,0.1,0.1,0.8,0.8,0.8,0.8,0.8,]\n",
    "plt.pie(np_y, labels = np_x, autopct = '%.2f%%', explode = explode, radius = 2)\n",
    "plt.show()"
   ]
  },
  {
   "cell_type": "code",
   "execution_count": 354,
   "id": "a71d50e2",
   "metadata": {},
   "outputs": [
    {
     "name": "stdout",
     "output_type": "stream",
     "text": [
      "Bangalore 635\n",
      "Mumbai 449\n",
      "New Delhi 389\n",
      "Gurgaon 241\n",
      "Pune 91\n",
      "Noida 79\n",
      "Hyderabad 77\n",
      "Chennai 67\n",
      "Ahmedabad 35\n",
      "Jaipur 25\n"
     ]
    }
   ],
   "source": [
    "for i in range(len(np_x)):\n",
    "    print(np_x[i], np_y[i])"
   ]
  },
  {
   "cell_type": "code",
   "execution_count": 358,
   "id": "3bba382b",
   "metadata": {},
   "outputs": [
    {
     "data": {
      "image/png": "[encoded data removed]",
      "text/plain": [
       "<Figure size 432x288 with 1 Axes>"
      ]
     },
     "metadata": {},
     "output_type": "display_data"
    },
    {
     "name": "stdout",
     "output_type": "stream",
     "text": [
      "Bangalore 635\n",
      "Mumbai 449\n",
      "New Delhi 389\n",
      "Gurgaon 241\n",
      "Pune 91\n",
      "Noida 79\n",
      "Hyderabad 77\n",
      "Chennai 67\n",
      "Ahmedabad 35\n",
      "Jaipur 25\n"
     ]
    }
   ],
   "source": [
    "import numpy as np\n",
    "import pandas as pd\n",
    "import matplotlib.pyplot as plt\n",
    "\n",
    "data = pd.read_csv(\"C://Users//91902//Desktop//Datasets//startup_funding.csv\", parse_dates = ['Date'])\n",
    "df = data.copy()\n",
    "\n",
    "c = df['CityLocation'].values\n",
    "np_c = np.array(c)\n",
    "np_c = np_c[np_c != '']\n",
    "\n",
    "for i in range(len(np_c)):\n",
    "    if type(np_c[i]) != float :\n",
    "        \n",
    "        if 'bangalore' in np_c[i]:\n",
    "            np_c[i] = 'Bangalore'\n",
    "        if 'Delhi' in np_c[i]:\n",
    "            np_c[i] = 'New Delhi'\n",
    "        \n",
    "        \n",
    "for i in range(len(np_c)):\n",
    "    if type(np_c[i]) != float:\n",
    "        np_c[i] = np_c[i].split('/')[0].strip()\n",
    "        \n",
    "\n",
    "city = {}\n",
    "for row in np_c :\n",
    "    if row in city:\n",
    "        city[row] += 1 \n",
    "    else:\n",
    "        city[row] = 1\n",
    "    \n",
    "x = []\n",
    "y = []\n",
    "for c in city:\n",
    "    if type(c) != float :\n",
    "        x.append(c)\n",
    "        y.append(city[c])\n",
    "\n",
    "np_x = np.array(x)\n",
    "np_y = np.array(y)\n",
    "\n",
    "np_x = np_x[np.argsort(np_y)]\n",
    "np_y = np.sort(np_y)\n",
    "\n",
    "np_x = np_x[len(np_x)-1: len(np_x) -11 : -1]\n",
    "np_y = np_y[len(np_y)-1: len(np_y) -11 : -1]\n",
    "\n",
    "explode = [0.1,0.1,0.1,0.1,0.1,0.8,0.8,0.8,0.8,0.8,]\n",
    "plt.pie(np_y, labels = np_x, autopct = '%.2f%%', explode = explode, radius = 2)\n",
    "plt.show()\n",
    "\n",
    "for i in range(len(np_x)):\n",
    "    print(np_x[i], np_y[i])"
   ]
  },
  {
   "cell_type": "code",
   "execution_count": null,
   "id": "b9f71050",
   "metadata": {},
   "outputs": [],
   "source": []
  }
 ],
 "metadata": {
  "kernelspec": {
   "display_name": "Python 3 (ipykernel)",
   "language": "python",
   "name": "python3"
  },
  "language_info": {
   "codemirror_mode": {
    "name": "ipython",
    "version": 3
   },
   "file_extension": ".py",
   "mimetype": "text/x-python",
   "name": "python",
   "nbconvert_exporter": "python",
   "pygments_lexer": "ipython3",
   "version": "3.8.8"
  }
 },
 "nbformat": 4,
 "nbformat_minor": 5
}
