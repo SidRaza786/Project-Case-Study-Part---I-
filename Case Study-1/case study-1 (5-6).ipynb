{
 "cells": [
  {
   "cell_type": "markdown",
   "id": "562e8cd1",
   "metadata": {},
   "source": [
    "# Ass-5 [Top Industries]"
   ]
  },
  {
   "cell_type": "markdown",
   "id": "da7a35ea",
   "metadata": {},
   "source": [
    "Given File 'startup_funding.csv'\n",
    "Problem Statement :\n",
    "Which type of companies got more easily funding. To answer this question, find -\n",
    "Top 5 industries and percentage of the total amount funded to that industry. (among top 5 only)\n",
    "Print the industry name and percentage of the amount funded with 2 decimal place after rounding off.\n",
    "Note :\n",
    "Ecommerce is the right word in IndustryVertical, so correct it.\n",
    "Print the industry in descending order with respect to the percentage of the amount funded.\n",
    "Output Format :\n",
    "industry1 percent1\n",
    "industry2 percent2\n",
    "industry3 percent3\n",
    ". . . "
   ]
  },
  {
   "cell_type": "code",
   "execution_count": 50,
   "id": "ecca0cfc",
   "metadata": {},
   "outputs": [],
   "source": [
    "import numpy as np\n",
    "import pandas as pd\n",
    "import matplotlib.pyplot as plt\n",
    "\n",
    "data = pd.read_csv(\"C://Users//91902//Desktop//Datasets//startup_funding.csv\", parse_dates = ['Date'])\n",
    "df = data.copy()\n"
   ]
  },
  {
   "cell_type": "code",
   "execution_count": 51,
   "id": "c22d0ca1",
   "metadata": {},
   "outputs": [
    {
     "data": {
      "text/html": [
       "<div>\n",
       "<style scoped>\n",
       "    .dataframe tbody tr th:only-of-type {\n",
       "        vertical-align: middle;\n",
       "    }\n",
       "\n",
       "    .dataframe tbody tr th {\n",
       "        vertical-align: top;\n",
       "    }\n",
       "\n",
       "    .dataframe thead th {\n",
       "        text-align: right;\n",
       "    }\n",
       "</style>\n",
       "<table border=\"1\" class=\"dataframe\">\n",
       "  <thead>\n",
       "    <tr style=\"text-align: right;\">\n",
       "      <th></th>\n",
       "      <th>SNo</th>\n",
       "      <th>Date</th>\n",
       "      <th>StartupName</th>\n",
       "      <th>IndustryVertical</th>\n",
       "      <th>SubVertical</th>\n",
       "      <th>CityLocation</th>\n",
       "      <th>InvestorsName</th>\n",
       "      <th>InvestmentType</th>\n",
       "      <th>AmountInUSD</th>\n",
       "      <th>Remarks</th>\n",
       "    </tr>\n",
       "  </thead>\n",
       "  <tbody>\n",
       "    <tr>\n",
       "      <th>0</th>\n",
       "      <td>0</td>\n",
       "      <td>01/08/2017</td>\n",
       "      <td>TouchKin</td>\n",
       "      <td>Technology</td>\n",
       "      <td>Predictive Care Platform</td>\n",
       "      <td>Bangalore</td>\n",
       "      <td>Kae Capital</td>\n",
       "      <td>Private Equity</td>\n",
       "      <td>1,300,000</td>\n",
       "      <td>NaN</td>\n",
       "    </tr>\n",
       "    <tr>\n",
       "      <th>1</th>\n",
       "      <td>1</td>\n",
       "      <td>02/08/2017</td>\n",
       "      <td>Ethinos</td>\n",
       "      <td>Technology</td>\n",
       "      <td>Digital Marketing Agency</td>\n",
       "      <td>Mumbai</td>\n",
       "      <td>Triton Investment Advisors</td>\n",
       "      <td>Private Equity</td>\n",
       "      <td>NaN</td>\n",
       "      <td>NaN</td>\n",
       "    </tr>\n",
       "    <tr>\n",
       "      <th>2</th>\n",
       "      <td>2</td>\n",
       "      <td>02/08/2017</td>\n",
       "      <td>Leverage Edu</td>\n",
       "      <td>Consumer Internet</td>\n",
       "      <td>Online platform for Higher Education Services</td>\n",
       "      <td>New Delhi</td>\n",
       "      <td>Kashyap Deorah, Anand Sankeshwar, Deepak Jain,...</td>\n",
       "      <td>Seed Funding</td>\n",
       "      <td>NaN</td>\n",
       "      <td>NaN</td>\n",
       "    </tr>\n",
       "    <tr>\n",
       "      <th>3</th>\n",
       "      <td>3</td>\n",
       "      <td>02/08/2017</td>\n",
       "      <td>Zepo</td>\n",
       "      <td>Consumer Internet</td>\n",
       "      <td>DIY Ecommerce platform</td>\n",
       "      <td>Mumbai</td>\n",
       "      <td>Kunal Shah, LetsVenture, Anupam Mittal, Hetal ...</td>\n",
       "      <td>Seed Funding</td>\n",
       "      <td>500,000</td>\n",
       "      <td>NaN</td>\n",
       "    </tr>\n",
       "    <tr>\n",
       "      <th>4</th>\n",
       "      <td>4</td>\n",
       "      <td>02/08/2017</td>\n",
       "      <td>Click2Clinic</td>\n",
       "      <td>Consumer Internet</td>\n",
       "      <td>healthcare service aggregator</td>\n",
       "      <td>Hyderabad</td>\n",
       "      <td>Narottam Thudi, Shireesh Palle</td>\n",
       "      <td>Seed Funding</td>\n",
       "      <td>850,000</td>\n",
       "      <td>NaN</td>\n",
       "    </tr>\n",
       "  </tbody>\n",
       "</table>\n",
       "</div>"
      ],
      "text/plain": [
       "   SNo        Date   StartupName   IndustryVertical  \\\n",
       "0    0  01/08/2017      TouchKin         Technology   \n",
       "1    1  02/08/2017       Ethinos         Technology   \n",
       "2    2  02/08/2017  Leverage Edu  Consumer Internet   \n",
       "3    3  02/08/2017          Zepo  Consumer Internet   \n",
       "4    4  02/08/2017  Click2Clinic  Consumer Internet   \n",
       "\n",
       "                                     SubVertical CityLocation  \\\n",
       "0                       Predictive Care Platform    Bangalore   \n",
       "1                       Digital Marketing Agency       Mumbai   \n",
       "2  Online platform for Higher Education Services    New Delhi   \n",
       "3                         DIY Ecommerce platform       Mumbai   \n",
       "4                  healthcare service aggregator    Hyderabad   \n",
       "\n",
       "                                       InvestorsName  InvestmentType  \\\n",
       "0                                        Kae Capital  Private Equity   \n",
       "1                         Triton Investment Advisors  Private Equity   \n",
       "2  Kashyap Deorah, Anand Sankeshwar, Deepak Jain,...    Seed Funding   \n",
       "3  Kunal Shah, LetsVenture, Anupam Mittal, Hetal ...    Seed Funding   \n",
       "4                     Narottam Thudi, Shireesh Palle    Seed Funding   \n",
       "\n",
       "  AmountInUSD Remarks  \n",
       "0   1,300,000     NaN  \n",
       "1         NaN     NaN  \n",
       "2         NaN     NaN  \n",
       "3     500,000     NaN  \n",
       "4     850,000     NaN  "
      ]
     },
     "execution_count": 51,
     "metadata": {},
     "output_type": "execute_result"
    }
   ],
   "source": [
    "df.head()"
   ]
  },
  {
   "cell_type": "code",
   "execution_count": 58,
   "id": "a6f9d465",
   "metadata": {},
   "outputs": [],
   "source": [
    "# handle missing values in IndustryVertical\n",
    "df.drop(df.index[df.IndustryVertical.isnull()], inplace = True)\n"
   ]
  },
  {
   "cell_type": "code",
   "execution_count": 59,
   "id": "5a7be0fa",
   "metadata": {},
   "outputs": [],
   "source": [
    "# Ecommerce is the right word in IndustryVertical\n",
    "df.loc[df.IndustryVertical == 'ecommerce', 'IndustryVertical'] = 'Ecommerce'\n",
    "df.loc[df.IndustryVertical == 'ECommerce', 'IndustryVertical'] = 'Ecommerce'\n",
    "df.loc[df.IndustryVertical == 'eCommerce', 'IndustryVertical'] = 'Ecommerce'\n",
    "\n",
    "\n",
    "\n",
    "industry = []\n",
    "for i in df.IndustryVertical:\n",
    "    industry.append(i)"
   ]
  },
  {
   "cell_type": "code",
   "execution_count": 60,
   "id": "47c6ead1",
   "metadata": {},
   "outputs": [],
   "source": [
    "# replace NaN values with 0 in amount column\n",
    "df.loc[df.AmountInUSD.isnull(), 'AmountInUSD'] = '0'\n",
    "\n",
    "amount = []\n",
    "for i in df.AmountInUSD:\n",
    "    amount.append(i)\n",
    "#handle space\n",
    "for i in range(len(amount)):\n",
    "    amount[i] = ''.join(amount[i].split(','))\n",
    "    "
   ]
  },
  {
   "cell_type": "code",
   "execution_count": 61,
   "id": "61f68d3f",
   "metadata": {},
   "outputs": [],
   "source": [
    "np_amount = np.array(amount, dtype = 'int64')\n",
    "np_industry = np.array(industry)"
   ]
  },
  {
   "cell_type": "code",
   "execution_count": 62,
   "id": "314d6150",
   "metadata": {},
   "outputs": [],
   "source": [
    "Dic = {}\n",
    "for i in range(len(np_industry)):\n",
    "    if np_industry[i] in Dic:\n",
    "        Dic[np_industry[i]] += np_amount[i]\n",
    "    else:\n",
    "        Dic[np_industry[i]] = np_amount[i]"
   ]
  },
  {
   "cell_type": "code",
   "execution_count": 66,
   "id": "438f8592",
   "metadata": {},
   "outputs": [],
   "source": [
    "x = list(Dic.keys())\n",
    "y = list(Dic.values())\n",
    "np_x = np.array(x)\n",
    "np_y = np.array(y)\n",
    "\n",
    "# sort np_x using np_y\n",
    "np_x = np_x[np.argsort(np_y)]\n",
    "np_y = np.sort(np_y)"
   ]
  },
  {
   "cell_type": "code",
   "execution_count": 67,
   "id": "f939c7a4",
   "metadata": {},
   "outputs": [],
   "source": [
    "np_x = np_x[len(np_x)-1:len(np_x)-1-5:-1]\n",
    "np_y = np_y[len(np_y)-1:len(np_y)-1-5:-1]"
   ]
  },
  {
   "cell_type": "code",
   "execution_count": 68,
   "id": "1b7d8f75",
   "metadata": {},
   "outputs": [
    {
     "name": "stdout",
     "output_type": "stream",
     "text": [
      "['Ecommerce' 'Consumer Internet' 'Technology' 'Online Marketplace'\n",
      " 'E-Commerce & M-Commerce platform']\n",
      "[4281189608 3797089000 1103593500  700000000  680000000]\n"
     ]
    }
   ],
   "source": [
    "print(np_x)\n",
    "print(np_y)"
   ]
  },
  {
   "cell_type": "code",
   "execution_count": 70,
   "id": "0958165b",
   "metadata": {},
   "outputs": [
    {
     "data": {
      "image/png": "[encoded data removed]",
      "text/plain": [
       "<Figure size 432x288 with 1 Axes>"
      ]
     },
     "metadata": {},
     "output_type": "display_data"
    }
   ],
   "source": [
    "plt.pie(np_y, labels = np_x, autopct = '%.2f%%')\n",
    "plt.show()"
   ]
  },
  {
   "cell_type": "code",
   "execution_count": 72,
   "id": "c519d05c",
   "metadata": {},
   "outputs": [
    {
     "name": "stdout",
     "output_type": "stream",
     "text": [
      "Ecommerce 40.53\n",
      "Consumer Internet 35.95\n",
      "Technology 10.45\n",
      "Online Marketplace 6.63\n",
      "E-Commerce & M-Commerce platform 6.44\n"
     ]
    }
   ],
   "source": [
    "for i in range(len(np_x)):\n",
    "    print(np_x[i], format(np_y[i]*100/sum(np_y), '.2f'))"
   ]
  },
  {
   "cell_type": "code",
   "execution_count": 73,
   "id": "bda3f6c9",
   "metadata": {},
   "outputs": [
    {
     "data": {
      "image/png": "[encoded data removed]",
      "text/plain": [
       "<Figure size 432x288 with 1 Axes>"
      ]
     },
     "metadata": {},
     "output_type": "display_data"
    },
    {
     "name": "stdout",
     "output_type": "stream",
     "text": [
      "Ecommerce 40.53\n",
      "Consumer Internet 35.95\n",
      "Technology 10.45\n",
      "Online Marketplace 6.63\n",
      "E-Commerce & M-Commerce platform 6.44\n"
     ]
    }
   ],
   "source": [
    "import numpy as np\n",
    "import pandas as pd\n",
    "import matplotlib.pyplot as plt\n",
    "\n",
    "data = pd.read_csv(\"C://Users//91902//Desktop//Datasets//startup_funding.csv\", parse_dates = ['Date'])\n",
    "df = data.copy()\n",
    "\n",
    "# handle missing values in IndustryVertical\n",
    "df.drop(df.index[df.IndustryVertical.isnull()], inplace = True)\n",
    "\n",
    "# Ecommerce is the right word in IndustryVertical\n",
    "df.loc[df.IndustryVertical == 'ecommerce', 'IndustryVertical'] = 'Ecommerce'\n",
    "df.loc[df.IndustryVertical == 'ECommerce', 'IndustryVertical'] = 'Ecommerce'\n",
    "df.loc[df.IndustryVertical == 'eCommerce', 'IndustryVertical'] = 'Ecommerce'\n",
    "\n",
    "industry = []\n",
    "for i in df.IndustryVertical:\n",
    "    industry.append(i)\n",
    "    \n",
    "# replace NaN values with 0 in amount column\n",
    "df.loc[df.AmountInUSD.isnull(), 'AmountInUSD'] = '0'\n",
    "\n",
    "amount = []\n",
    "for i in df.AmountInUSD:\n",
    "    amount.append(i)\n",
    "#handle space\n",
    "for i in range(len(amount)):\n",
    "    amount[i] = ''.join(amount[i].split(','))\n",
    "    \n",
    "np_amount = np.array(amount, dtype = 'int64')\n",
    "np_industry = np.array(industry)\n",
    "\n",
    "Dic = {}\n",
    "for i in range(len(np_industry)):\n",
    "    if np_industry[i] in Dic:\n",
    "        Dic[np_industry[i]] += np_amount[i]\n",
    "    else:\n",
    "        Dic[np_industry[i]] = np_amount[i]\n",
    "        \n",
    "x = list(Dic.keys())\n",
    "y = list(Dic.values())\n",
    "np_x = np.array(x)\n",
    "np_y = np.array(y)\n",
    "\n",
    "# sort np_x using np_y\n",
    "np_x = np_x[np.argsort(np_y)]\n",
    "np_y = np.sort(np_y)\n",
    "\n",
    "np_x = np_x[len(np_x)-1:len(np_x)-1-5:-1]\n",
    "np_y = np_y[len(np_y)-1:len(np_y)-1-5:-1]\n",
    "\n",
    "plt.pie(np_y, labels = np_x, autopct = '%.2f%%')\n",
    "plt.show()\n",
    "\n",
    "for i in range(len(np_x)):\n",
    "    print(np_x[i], format(np_y[i]*100/sum(np_y), '.2f'))"
   ]
  },
  {
   "cell_type": "markdown",
   "id": "2d495e5e",
   "metadata": {},
   "source": [
    "# Ass-6 [Top startups]"
   ]
  },
  {
   "cell_type": "markdown",
   "id": "3550ef12",
   "metadata": {},
   "source": [
    "\n",
    "Given File 'startup_funding.csv'\n",
    "Problem Statement :\n",
    "Find top 5 startups with most amount of total funding.\n",
    "\n",
    "Print the startup name in descending order with respect to amount of funding.\n",
    "\n",
    "Note:\n",
    "Ola, Flipkart, Oyo, Paytm are important startups, so correct their names. \n",
    "\n",
    "There are many errors in startup names, ignore correcting all, just handle important ones.\n",
    "\n",
    "Output Format :\n",
    "startup1\n",
    "startup2\n",
    "startup3\n",
    ". . . "
   ]
  },
  {
   "cell_type": "code",
   "execution_count": 125,
   "id": "6fb2fef2",
   "metadata": {},
   "outputs": [],
   "source": [
    "import numpy as np\n",
    "import pandas as pd\n",
    "import matplotlib.pyplot as plt\n",
    "\n",
    "data = pd.read_csv(\"C://Users//91902//Desktop//Datasets//startup_funding.csv\", parse_dates = ['Date'])\n",
    "df = data.copy()"
   ]
  },
  {
   "cell_type": "code",
   "execution_count": 72,
   "id": "5849cf91",
   "metadata": {},
   "outputs": [],
   "source": [
    "# find NaN values in AmountInUSD column and fill with '0'\n",
    "df.AmountInUSD.loc[df['AmountInUSD'].isnull()]='0'\n",
    "\n",
    "np_amount = np.array(df.AmountInUSD)\n",
    "np_startup = np.array(df.StartupName)\n",
    "\n",
    "#handle space\n",
    "for i in range(len(np_amount)):\n",
    "    np_amount[i] = ''.join(np_amount[i].split(','))\n",
    "    \n",
    "np_amount = np.array(np_amount, dtype = 'int64')"
   ]
  },
  {
   "cell_type": "code",
   "execution_count": 81,
   "id": "664031e2",
   "metadata": {},
   "outputs": [],
   "source": [
    "# correct spelling mistake in startup\n",
    "for i in range(len(np_startup)):\n",
    "    if 'Ola' in np_startup[i]:\n",
    "        np_startup[i]='Ola'\n",
    "    if 'Flipkart' in np_startup[i]:\n",
    "        np_startup[i]='Flipkart'\n",
    "    if 'Oyo' in np_startup[i]:\n",
    "        np_startup[i]='Oyo'\n",
    "    if 'Paytm' in np_startup[i]:\n",
    "        np_startup[i]='Paytm'\n",
    "        "
   ]
  },
  {
   "cell_type": "code",
   "execution_count": 82,
   "id": "e9682162",
   "metadata": {},
   "outputs": [],
   "source": [
    "Dict = {}\n",
    "for i in range(len(np_amount)):\n",
    "    if np_startup[i] in Dict.keys():\n",
    "        Dict[np_startup[i]] += np_amount[i]\n",
    "    else:\n",
    "        Dict[np_startup[i]] = np_amount[i]"
   ]
  },
  {
   "cell_type": "code",
   "execution_count": 83,
   "id": "ad1ee8c7",
   "metadata": {},
   "outputs": [],
   "source": [
    "x = []\n",
    "y = []\n",
    "for val in Dict:\n",
    "    x.append(val)\n",
    "    y.append(Dict[val])\n",
    "\n",
    "np_x = np.array(x)\n",
    "np_y = np.array(y)"
   ]
  },
  {
   "cell_type": "code",
   "execution_count": 84,
   "id": "3ecbc237",
   "metadata": {},
   "outputs": [],
   "source": [
    "np_x = np_x[np.argsort(np_y)]\n",
    "np_y = np.sort(np_y)"
   ]
  },
  {
   "cell_type": "code",
   "execution_count": 86,
   "id": "1e23c627",
   "metadata": {},
   "outputs": [],
   "source": [
    "np_x = np_x[len(np_x)-1: len(np_x)-1-5:-1]\n",
    "np_y = np_y[len(np_y)-1: len(np_y)-1-5:-1]"
   ]
  },
  {
   "cell_type": "code",
   "execution_count": 124,
   "id": "5d9eca64",
   "metadata": {},
   "outputs": [
    {
     "data": {
      "image/png": "[encoded data removed]",
      "text/plain": [
       "<Figure size 432x288 with 1 Axes>"
      ]
     },
     "metadata": {
      "needs_background": "light"
     },
     "output_type": "display_data"
    },
    {
     "name": "stdout",
     "output_type": "stream",
     "text": [
      "Paytm\n",
      "Flipkart\n",
      "Ola\n",
      "Snapdeal\n",
      "Oyo\n"
     ]
    }
   ],
   "source": [
    "import numpy as np\n",
    "import pandas as pd\n",
    "import matplotlib.pyplot as plt\n",
    "\n",
    "data = pd.read_csv(\"C://Users//91902//Desktop//Datasets//startup_funding.csv\", parse_dates = ['Date'])\n",
    "df = data.copy()\n",
    "df.head()\n",
    "\n",
    "#correct spelling mistake in startup\n",
    "np_startup = np.array(df.StartupName)\n",
    "\n",
    "for i in range(len(np_startup)):\n",
    "    \n",
    "    if 'Ola' in np_startup[i]:\n",
    "        np_startup[i]='Ola'\n",
    "        \n",
    "    if 'Flipkart' in np_startup[i]:\n",
    "        np_startup[i]='Flipkart'\n",
    "        \n",
    "    if 'Oyo' in np_startup[i]:\n",
    "        np_startup[i]='Oyo'\n",
    "        \n",
    "    if 'Paytm' in np_startup[i]:\n",
    "        np_startup[i]='Paytm'\n",
    "        \n",
    "\n",
    "# filling missing values in AmountInUSD with '0'\n",
    "df.AmountInUSD.loc[df.AmountInUSD.isnull()] = '0'\n",
    "\n",
    "np_amount = np.array(df.AmountInUSD)\n",
    "for i in range(len(np_amount)):\n",
    "    np_amount[i] = ''.join(np_amount[i].split(','))\n",
    "    \n",
    "np_amount = np.array(np_amount, dtype = 'int64')\n",
    "\n",
    "#create dict using np_staatrup as keys and np_amount as values\n",
    "Dict = {}\n",
    "for i in range(len(np_amount)):\n",
    "    if np_startup[i] in Dict:\n",
    "        Dict[np_startup[i]] += np_amount[i]\n",
    "    else:\n",
    "        Dict[np_startup[i]] = np_amount[i]\n",
    "\n",
    "x = list(Dict.keys())\n",
    "y = list(Dict.values())\n",
    "\n",
    "np_x = np.array(x)\n",
    "np_y = np.array(y)\n",
    "\n",
    "#sort np_x arr using np_y\n",
    "np_x = np_x[np.argsort(np_y)]\n",
    "np_y = np.sort(np_y)\n",
    "\n",
    "#find top 5 most startup\n",
    "np_x = np_x[len(np_x)-1: len(np_x)-1-5:-1]\n",
    "np_y = np_y[len(np_y)-1: len(np_y)-1-5:-1]\n",
    "\n",
    "#create bar chart\n",
    "plt.bar(np_x, np_y)\n",
    "plt.xticks(rotation = 40)\n",
    "plt.show()\n",
    "\n",
    "for i in range(len(np_x)):\n",
    "    print(np_x[i])"
   ]
  },
  {
   "cell_type": "code",
   "execution_count": 105,
   "id": "eb03e64b",
   "metadata": {},
   "outputs": [],
   "source": [
    "\n"
   ]
  },
  {
   "cell_type": "code",
   "execution_count": null,
   "id": "f8026d2b",
   "metadata": {},
   "outputs": [],
   "source": []
  }
 ],
 "metadata": {
  "kernelspec": {
   "display_name": "Python 3",
   "language": "python",
   "name": "python3"
  },
  "language_info": {
   "codemirror_mode": {
    "name": "ipython",
    "version": 3
   },
   "file_extension": ".py",
   "mimetype": "text/x-python",
   "name": "python",
   "nbconvert_exporter": "python",
   "pygments_lexer": "ipython3",
   "version": "3.8.8"
  }
 },
 "nbformat": 4,
 "nbformat_minor": 5
}
