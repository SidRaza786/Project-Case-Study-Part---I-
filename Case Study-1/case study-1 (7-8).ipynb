{
 "cells": [
  {
   "cell_type": "markdown",
   "id": "2c37963e",
   "metadata": {},
   "source": [
    "# Ass-7 [Funding rounds]"
   ]
  },
  {
   "cell_type": "markdown",
   "id": "00b6344f",
   "metadata": {},
   "source": [
    "Given File 'startup_funding.csv'\n",
    "Problem Statement :\n",
    "Find the top 5 startups who received the most number of funding rounds.\n",
    "\n",
    "That means, startups which got fundings maximum number of times.\n",
    "\n",
    "Print the startup name in descending order with respect to \n",
    "\n",
    "the number of funding round as integer value.\n",
    "\n",
    "Note:\n",
    "Ola, Flipkart, Oyo, Paytm are important startups, so correct their names. \n",
    "\n",
    "There are many errors in startup names, ignore correcting all, just handle important ones.\n",
    "\n",
    "Output Format :\n",
    "startup1 number1\n",
    "startup2 number2\n",
    "startup3 number3\n",
    ". . . "
   ]
  },
  {
   "cell_type": "code",
   "execution_count": 38,
   "id": "f2b70136",
   "metadata": {},
   "outputs": [
    {
     "data": {
      "text/html": [
       "<div>\n",
       "<style scoped>\n",
       "    .dataframe tbody tr th:only-of-type {\n",
       "        vertical-align: middle;\n",
       "    }\n",
       "\n",
       "    .dataframe tbody tr th {\n",
       "        vertical-align: top;\n",
       "    }\n",
       "\n",
       "    .dataframe thead th {\n",
       "        text-align: right;\n",
       "    }\n",
       "</style>\n",
       "<table border=\"1\" class=\"dataframe\">\n",
       "  <thead>\n",
       "    <tr style=\"text-align: right;\">\n",
       "      <th></th>\n",
       "      <th>SNo</th>\n",
       "      <th>Date</th>\n",
       "      <th>StartupName</th>\n",
       "      <th>IndustryVertical</th>\n",
       "      <th>SubVertical</th>\n",
       "      <th>CityLocation</th>\n",
       "      <th>InvestorsName</th>\n",
       "      <th>InvestmentType</th>\n",
       "      <th>AmountInUSD</th>\n",
       "      <th>Remarks</th>\n",
       "    </tr>\n",
       "  </thead>\n",
       "  <tbody>\n",
       "    <tr>\n",
       "      <th>0</th>\n",
       "      <td>0</td>\n",
       "      <td>01/08/2017</td>\n",
       "      <td>TouchKin</td>\n",
       "      <td>Technology</td>\n",
       "      <td>Predictive Care Platform</td>\n",
       "      <td>Bangalore</td>\n",
       "      <td>Kae Capital</td>\n",
       "      <td>Private Equity</td>\n",
       "      <td>1,300,000</td>\n",
       "      <td>NaN</td>\n",
       "    </tr>\n",
       "    <tr>\n",
       "      <th>1</th>\n",
       "      <td>1</td>\n",
       "      <td>02/08/2017</td>\n",
       "      <td>Ethinos</td>\n",
       "      <td>Technology</td>\n",
       "      <td>Digital Marketing Agency</td>\n",
       "      <td>Mumbai</td>\n",
       "      <td>Triton Investment Advisors</td>\n",
       "      <td>Private Equity</td>\n",
       "      <td>NaN</td>\n",
       "      <td>NaN</td>\n",
       "    </tr>\n",
       "    <tr>\n",
       "      <th>2</th>\n",
       "      <td>2</td>\n",
       "      <td>02/08/2017</td>\n",
       "      <td>Leverage Edu</td>\n",
       "      <td>Consumer Internet</td>\n",
       "      <td>Online platform for Higher Education Services</td>\n",
       "      <td>New Delhi</td>\n",
       "      <td>Kashyap Deorah, Anand Sankeshwar, Deepak Jain,...</td>\n",
       "      <td>Seed Funding</td>\n",
       "      <td>NaN</td>\n",
       "      <td>NaN</td>\n",
       "    </tr>\n",
       "    <tr>\n",
       "      <th>3</th>\n",
       "      <td>3</td>\n",
       "      <td>02/08/2017</td>\n",
       "      <td>Zepo</td>\n",
       "      <td>Consumer Internet</td>\n",
       "      <td>DIY Ecommerce platform</td>\n",
       "      <td>Mumbai</td>\n",
       "      <td>Kunal Shah, LetsVenture, Anupam Mittal, Hetal ...</td>\n",
       "      <td>Seed Funding</td>\n",
       "      <td>500,000</td>\n",
       "      <td>NaN</td>\n",
       "    </tr>\n",
       "    <tr>\n",
       "      <th>4</th>\n",
       "      <td>4</td>\n",
       "      <td>02/08/2017</td>\n",
       "      <td>Click2Clinic</td>\n",
       "      <td>Consumer Internet</td>\n",
       "      <td>healthcare service aggregator</td>\n",
       "      <td>Hyderabad</td>\n",
       "      <td>Narottam Thudi, Shireesh Palle</td>\n",
       "      <td>Seed Funding</td>\n",
       "      <td>850,000</td>\n",
       "      <td>NaN</td>\n",
       "    </tr>\n",
       "  </tbody>\n",
       "</table>\n",
       "</div>"
      ],
      "text/plain": [
       "   SNo        Date   StartupName   IndustryVertical  \\\n",
       "0    0  01/08/2017      TouchKin         Technology   \n",
       "1    1  02/08/2017       Ethinos         Technology   \n",
       "2    2  02/08/2017  Leverage Edu  Consumer Internet   \n",
       "3    3  02/08/2017          Zepo  Consumer Internet   \n",
       "4    4  02/08/2017  Click2Clinic  Consumer Internet   \n",
       "\n",
       "                                     SubVertical CityLocation  \\\n",
       "0                       Predictive Care Platform    Bangalore   \n",
       "1                       Digital Marketing Agency       Mumbai   \n",
       "2  Online platform for Higher Education Services    New Delhi   \n",
       "3                         DIY Ecommerce platform       Mumbai   \n",
       "4                  healthcare service aggregator    Hyderabad   \n",
       "\n",
       "                                       InvestorsName  InvestmentType  \\\n",
       "0                                        Kae Capital  Private Equity   \n",
       "1                         Triton Investment Advisors  Private Equity   \n",
       "2  Kashyap Deorah, Anand Sankeshwar, Deepak Jain,...    Seed Funding   \n",
       "3  Kunal Shah, LetsVenture, Anupam Mittal, Hetal ...    Seed Funding   \n",
       "4                     Narottam Thudi, Shireesh Palle    Seed Funding   \n",
       "\n",
       "  AmountInUSD Remarks  \n",
       "0   1,300,000     NaN  \n",
       "1         NaN     NaN  \n",
       "2         NaN     NaN  \n",
       "3     500,000     NaN  \n",
       "4     850,000     NaN  "
      ]
     },
     "execution_count": 38,
     "metadata": {},
     "output_type": "execute_result"
    }
   ],
   "source": [
    "import numpy as np\n",
    "import pandas as pd\n",
    "import matplotlib.pyplot as plt\n",
    "\n",
    "data = pd.read_csv(\"C://Users//91902//Desktop//Datasets//startup_funding.csv\", parse_dates = ['Date'])\n",
    "df = data.copy()\n",
    "df.head()"
   ]
  },
  {
   "cell_type": "code",
   "execution_count": 53,
   "id": "5813990c",
   "metadata": {},
   "outputs": [],
   "source": [
    "#correct spelling mistake in startup\n",
    "np_startup = np.array(df.StartupName)\n",
    "\n",
    "for i in range(len(np_startup)):\n",
    "    \n",
    "    if 'Ola' in np_startup[i]:\n",
    "        np_startup[i]='Ola'\n",
    "        \n",
    "    if 'Flipkart' in np_startup[i]:\n",
    "        np_startup[i]='Flipkart'\n",
    "        \n",
    "    if 'Oyo' in np_startup[i] or 'OYO Rooms' in np_startup[i]:\n",
    "        np_startup[i]='Oyo'\n",
    "        \n",
    "    if 'Paytm' in np_startup[i]:\n",
    "        np_startup[i]='Paytm'\n",
    "        \n",
    "Dict = {}\n",
    "for key in np_startup:\n",
    "    if key in Dict:\n",
    "        Dict[key] += 1\n",
    "    else:\n",
    "        Dict[key] = 1\n",
    "        \n",
    "x = list(Dict.keys())\n",
    "y = list(Dict.values())\n",
    "\n",
    "np_x = np.array(x)\n",
    "np_y = np.array(y)\n",
    "\n",
    "# sort the np_x using np_y\n",
    "np_x = np_x[np.argsort(np_y)]\n",
    "np_y = np.sort(np_y)\n",
    "\n",
    "#find top 5 most startup\n",
    "np_x = np_x[len(np_x)-1: len(np_x)-1-5:-1]\n",
    "np_y = np_y[len(np_y)-1: len(np_y)-1-5:-1]\n"
   ]
  },
  {
   "cell_type": "code",
   "execution_count": 54,
   "id": "d4265919",
   "metadata": {},
   "outputs": [
    {
     "data": {
      "image/png": "[encoded data removed]",
      "text/plain": [
       "<Figure size 432x288 with 1 Axes>"
      ]
     },
     "metadata": {
      "needs_background": "light"
     },
     "output_type": "display_data"
    }
   ],
   "source": [
    "plt.bar(np_x, np_y)\n",
    "plt.xticks(rotation = 40)\n",
    "plt.show()"
   ]
  },
  {
   "cell_type": "code",
   "execution_count": 51,
   "id": "067e96cc",
   "metadata": {},
   "outputs": [
    {
     "name": "stdout",
     "output_type": "stream",
     "text": [
      "Ola 9\n",
      "Swiggy 7\n",
      "Paytm 6\n",
      "UrbanClap 6\n",
      "Oyo 6\n"
     ]
    }
   ],
   "source": [
    "for i in range(len(np_x)):\n",
    "    print(np_x[i], np_y[i])"
   ]
  },
  {
   "cell_type": "code",
   "execution_count": 52,
   "id": "6a7e8096",
   "metadata": {},
   "outputs": [
    {
     "data": {
      "image/png": "[encoded data removed]",
      "text/plain": [
       "<Figure size 432x288 with 1 Axes>"
      ]
     },
     "metadata": {
      "needs_background": "light"
     },
     "output_type": "display_data"
    },
    {
     "name": "stdout",
     "output_type": "stream",
     "text": [
      "Ola 9\n",
      "Swiggy 7\n",
      "Paytm 6\n",
      "UrbanClap 6\n",
      "Oyo 6\n"
     ]
    }
   ],
   "source": [
    "import numpy as np\n",
    "import pandas as pd\n",
    "import matplotlib.pyplot as plt\n",
    "\n",
    "data = pd.read_csv(\"C://Users//91902//Desktop//Datasets//startup_funding.csv\", parse_dates = ['Date'])\n",
    "df = data.copy()\n",
    "\n",
    "#correct spelling mistake in startup\n",
    "np_startup = np.array(df.StartupName)\n",
    "\n",
    "for i in range(len(np_startup)):\n",
    "    \n",
    "    if 'Ola' in np_startup[i]:\n",
    "        np_startup[i]='Ola'\n",
    "        \n",
    "    if 'Flipkart' in np_startup[i]:\n",
    "        np_startup[i]='Flipkart'\n",
    "        \n",
    "    if 'Oyo' in np_startup[i] or 'OYO Rooms' in np_startup[i]:\n",
    "        np_startup[i]='Oyo'\n",
    "        \n",
    "    if 'Paytm' in np_startup[i]:\n",
    "        np_startup[i]='Paytm'\n",
    "        \n",
    "Dict = {}\n",
    "for key in np_startup:\n",
    "    if key in Dict:\n",
    "        Dict[key] += 1\n",
    "    else:\n",
    "        Dict[key] = 1\n",
    "        \n",
    "x = list(Dict.keys())\n",
    "y = list(Dict.values())\n",
    "\n",
    "np_x = np.array(x)\n",
    "np_y = np.array(y)\n",
    "\n",
    "# sort the np_x using np_y\n",
    "np_x = np_x[np.argsort(np_y)]\n",
    "np_y = np.sort(np_y)\n",
    "\n",
    "#find top 5 most startup\n",
    "np_x = np_x[len(np_x)-1: len(np_x)-1-5:-1]\n",
    "np_y = np_y[len(np_y)-1: len(np_y)-1-5:-1]\n",
    "\n",
    "plt.bar(np_x, np_y)\n",
    "plt.xticks(rotation = 40)\n",
    "plt.show()\n",
    "\n",
    "for i in range(len(np_x)):\n",
    "    print(np_x[i], np_y[i])"
   ]
  },
  {
   "cell_type": "markdown",
   "id": "45625f66",
   "metadata": {},
   "source": [
    "# Ass-8 [Top Investor]"
   ]
  },
  {
   "cell_type": "markdown",
   "id": "b5f77841",
   "metadata": {},
   "source": [
    "Given File 'startup_funding.csv'\n",
    "\n",
    "Problem Statement :\n",
    "    \n",
    "Find the Investors who have invested maximum number of times.\n",
    "\n",
    "Print the investor name and number of times invested as integer value.\n",
    "\n",
    "Note:\n",
    "    \n",
    "In startup, multiple investors might have invested. So consider each investor for that startup.\n",
    "\n",
    "Ignore the undisclosed investors.\n",
    "\n",
    "Output Format :\n",
    "investorname number"
   ]
  },
  {
   "cell_type": "code",
   "execution_count": 2,
   "id": "e211b575",
   "metadata": {},
   "outputs": [
    {
     "data": {
      "text/html": [
       "<div>\n",
       "<style scoped>\n",
       "    .dataframe tbody tr th:only-of-type {\n",
       "        vertical-align: middle;\n",
       "    }\n",
       "\n",
       "    .dataframe tbody tr th {\n",
       "        vertical-align: top;\n",
       "    }\n",
       "\n",
       "    .dataframe thead th {\n",
       "        text-align: right;\n",
       "    }\n",
       "</style>\n",
       "<table border=\"1\" class=\"dataframe\">\n",
       "  <thead>\n",
       "    <tr style=\"text-align: right;\">\n",
       "      <th></th>\n",
       "      <th>SNo</th>\n",
       "      <th>Date</th>\n",
       "      <th>StartupName</th>\n",
       "      <th>IndustryVertical</th>\n",
       "      <th>SubVertical</th>\n",
       "      <th>CityLocation</th>\n",
       "      <th>InvestorsName</th>\n",
       "      <th>InvestmentType</th>\n",
       "      <th>AmountInUSD</th>\n",
       "      <th>Remarks</th>\n",
       "    </tr>\n",
       "  </thead>\n",
       "  <tbody>\n",
       "    <tr>\n",
       "      <th>0</th>\n",
       "      <td>0</td>\n",
       "      <td>01/08/2017</td>\n",
       "      <td>TouchKin</td>\n",
       "      <td>Technology</td>\n",
       "      <td>Predictive Care Platform</td>\n",
       "      <td>Bangalore</td>\n",
       "      <td>Kae Capital</td>\n",
       "      <td>Private Equity</td>\n",
       "      <td>1,300,000</td>\n",
       "      <td>NaN</td>\n",
       "    </tr>\n",
       "    <tr>\n",
       "      <th>1</th>\n",
       "      <td>1</td>\n",
       "      <td>02/08/2017</td>\n",
       "      <td>Ethinos</td>\n",
       "      <td>Technology</td>\n",
       "      <td>Digital Marketing Agency</td>\n",
       "      <td>Mumbai</td>\n",
       "      <td>Triton Investment Advisors</td>\n",
       "      <td>Private Equity</td>\n",
       "      <td>NaN</td>\n",
       "      <td>NaN</td>\n",
       "    </tr>\n",
       "    <tr>\n",
       "      <th>2</th>\n",
       "      <td>2</td>\n",
       "      <td>02/08/2017</td>\n",
       "      <td>Leverage Edu</td>\n",
       "      <td>Consumer Internet</td>\n",
       "      <td>Online platform for Higher Education Services</td>\n",
       "      <td>New Delhi</td>\n",
       "      <td>Kashyap Deorah, Anand Sankeshwar, Deepak Jain,...</td>\n",
       "      <td>Seed Funding</td>\n",
       "      <td>NaN</td>\n",
       "      <td>NaN</td>\n",
       "    </tr>\n",
       "    <tr>\n",
       "      <th>3</th>\n",
       "      <td>3</td>\n",
       "      <td>02/08/2017</td>\n",
       "      <td>Zepo</td>\n",
       "      <td>Consumer Internet</td>\n",
       "      <td>DIY Ecommerce platform</td>\n",
       "      <td>Mumbai</td>\n",
       "      <td>Kunal Shah, LetsVenture, Anupam Mittal, Hetal ...</td>\n",
       "      <td>Seed Funding</td>\n",
       "      <td>500,000</td>\n",
       "      <td>NaN</td>\n",
       "    </tr>\n",
       "    <tr>\n",
       "      <th>4</th>\n",
       "      <td>4</td>\n",
       "      <td>02/08/2017</td>\n",
       "      <td>Click2Clinic</td>\n",
       "      <td>Consumer Internet</td>\n",
       "      <td>healthcare service aggregator</td>\n",
       "      <td>Hyderabad</td>\n",
       "      <td>Narottam Thudi, Shireesh Palle</td>\n",
       "      <td>Seed Funding</td>\n",
       "      <td>850,000</td>\n",
       "      <td>NaN</td>\n",
       "    </tr>\n",
       "  </tbody>\n",
       "</table>\n",
       "</div>"
      ],
      "text/plain": [
       "   SNo        Date   StartupName   IndustryVertical  \\\n",
       "0    0  01/08/2017      TouchKin         Technology   \n",
       "1    1  02/08/2017       Ethinos         Technology   \n",
       "2    2  02/08/2017  Leverage Edu  Consumer Internet   \n",
       "3    3  02/08/2017          Zepo  Consumer Internet   \n",
       "4    4  02/08/2017  Click2Clinic  Consumer Internet   \n",
       "\n",
       "                                     SubVertical CityLocation  \\\n",
       "0                       Predictive Care Platform    Bangalore   \n",
       "1                       Digital Marketing Agency       Mumbai   \n",
       "2  Online platform for Higher Education Services    New Delhi   \n",
       "3                         DIY Ecommerce platform       Mumbai   \n",
       "4                  healthcare service aggregator    Hyderabad   \n",
       "\n",
       "                                       InvestorsName  InvestmentType  \\\n",
       "0                                        Kae Capital  Private Equity   \n",
       "1                         Triton Investment Advisors  Private Equity   \n",
       "2  Kashyap Deorah, Anand Sankeshwar, Deepak Jain,...    Seed Funding   \n",
       "3  Kunal Shah, LetsVenture, Anupam Mittal, Hetal ...    Seed Funding   \n",
       "4                     Narottam Thudi, Shireesh Palle    Seed Funding   \n",
       "\n",
       "  AmountInUSD Remarks  \n",
       "0   1,300,000     NaN  \n",
       "1         NaN     NaN  \n",
       "2         NaN     NaN  \n",
       "3     500,000     NaN  \n",
       "4     850,000     NaN  "
      ]
     },
     "execution_count": 2,
     "metadata": {},
     "output_type": "execute_result"
    }
   ],
   "source": [
    "import numpy as np\n",
    "import pandas as pd\n",
    "import matplotlib.pyplot as plt\n",
    "\n",
    "data = pd.read_csv(\"C://Users//91902//Desktop//Datasets//startup_funding.csv\", parse_dates = ['Date'])\n",
    "df = data.copy()\n",
    "df.head()"
   ]
  },
  {
   "cell_type": "code",
   "execution_count": 20,
   "id": "4a6893b5",
   "metadata": {},
   "outputs": [],
   "source": [
    "np_startup = np.array(df.StartupName)"
   ]
  },
  {
   "cell_type": "code",
   "execution_count": 31,
   "id": "40db3e5e",
   "metadata": {},
   "outputs": [
    {
     "data": {
      "text/plain": [
       "4467"
      ]
     },
     "execution_count": 31,
     "metadata": {},
     "output_type": "execute_result"
    }
   ],
   "source": [
    "np_investor = np.array(df.InvestorsName, dtype = 'str') \n",
    "investors = []\n",
    "for row in np_investor:\n",
    "    if 'Undisclosed' not in row or 'undisclosed' in row:\n",
    "        val = row.split(',')\n",
    "        for name in val:\n",
    "            investors.append(name.strip())\n",
    "len(investors)"
   ]
  },
  {
   "cell_type": "code",
   "execution_count": 32,
   "id": "99a68a1e",
   "metadata": {},
   "outputs": [],
   "source": [
    "Dict = {}\n",
    "for key in investors:\n",
    "    if key in Dict:\n",
    "        Dict[key] += 1\n",
    "    else:\n",
    "        Dict[key] = 1"
   ]
  },
  {
   "cell_type": "code",
   "execution_count": 33,
   "id": "577fa007",
   "metadata": {},
   "outputs": [],
   "source": [
    "x = list(Dict.keys())\n",
    "y = list(Dict.values())\n",
    "\n",
    "np_x = np.array(x)\n",
    "np_y = np.array(y)\n",
    "\n",
    "# sort the np_x using np_y\n",
    "np_x = np_x[np.argsort(np_y)]\n",
    "np_y = np.sort(np_y)"
   ]
  },
  {
   "cell_type": "code",
   "execution_count": 34,
   "id": "a283ab34",
   "metadata": {},
   "outputs": [
    {
     "name": "stdout",
     "output_type": "stream",
     "text": [
      "Sequoia Capital 64\n"
     ]
    }
   ],
   "source": [
    "print(np_x[-1], np_y[-1])"
   ]
  },
  {
   "cell_type": "code",
   "execution_count": 97,
   "id": "15bf8022",
   "metadata": {},
   "outputs": [
    {
     "name": "stdout",
     "output_type": "stream",
     "text": [
      "Sequoia Capital 64\n"
     ]
    }
   ],
   "source": [
    "import numpy as np\n",
    "import pandas as pd\n",
    "import matplotlib.pyplot as plt\n",
    "\n",
    "data = pd.read_csv(\"C://Users//91902//Desktop//Datasets//startup_funding.csv\", parse_dates = ['Date'])\n",
    "df = data.copy()\n",
    "\n",
    "np_investor = np.array(df.InvestorsName, dtype = 'str') \n",
    "investors = []\n",
    "for row in np_investor:\n",
    "    if 'Undisclosed' not in row or 'undisclosed' in row:\n",
    "        val = row.split(',')\n",
    "        for name in val:\n",
    "            investors.append(name.strip())\n",
    "            \n",
    "Dict = {}\n",
    "for key in investors:\n",
    "    if key in Dict:\n",
    "        Dict[key] += 1\n",
    "    else:\n",
    "        Dict[key] = 1\n",
    "        \n",
    "x = list(Dict.keys())\n",
    "y = list(Dict.values())\n",
    "\n",
    "np_x = np.array(x)\n",
    "np_y = np.array(y)\n",
    "\n",
    "# sort the np_x using np_y\n",
    "np_x = np_x[np.argsort(np_y)]\n",
    "np_y = np.sort(np_y)\n",
    "\n",
    "print(np_x[-1], np_y[-1])"
   ]
  },
  {
   "cell_type": "code",
   "execution_count": null,
   "id": "24b3a9fd",
   "metadata": {},
   "outputs": [],
   "source": []
  }
 ],
 "metadata": {
  "kernelspec": {
   "display_name": "Python 3",
   "language": "python",
   "name": "python3"
  },
  "language_info": {
   "codemirror_mode": {
    "name": "ipython",
    "version": 3
   },
   "file_extension": ".py",
   "mimetype": "text/x-python",
   "name": "python",
   "nbconvert_exporter": "python",
   "pygments_lexer": "ipython3",
   "version": "3.8.8"
  }
 },
 "nbformat": 4,
 "nbformat_minor": 5
}
