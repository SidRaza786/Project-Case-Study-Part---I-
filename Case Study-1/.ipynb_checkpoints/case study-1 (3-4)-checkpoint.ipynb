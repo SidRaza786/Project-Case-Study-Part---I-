{
 "cells": [
  {
   "cell_type": "markdown",
   "id": "cc5be268",
   "metadata": {},
   "source": [
    "# Ass-3 [Funding amount]"
   ]
  },
  {
   "cell_type": "markdown",
   "id": "bb384966",
   "metadata": {},
   "source": [
    "\n",
    "Given File 'startup_funding.csv'\n",
    "Problem Statement :\n",
    "Find out if cities play any role in receiving funding.\n",
    "\n",
    "Find top 10 Indian cities with most amount of fundings received. \n",
    "\n",
    "Find out percentage of funding each city has got (among top 10 Indian cities only).\n",
    "\n",
    "Print the city and percentage with 2 decimal place after rounding off.\n",
    "\n",
    "Note:\n",
    "Take city name \"Delhi\" as \"New Delhi\".\n",
    "Check the case-sensitiveness of cities also.\n",
    "That means - at some place, instead of \"Bangalore\", \"bangalore\" is given. \n",
    "Take city name as \"Bangalore\".\n",
    "\n",
    "For few startups multiple locations are given, one Indian and one Foreign. \n",
    "\n",
    "Count those startups in Indian startup also. Indian city name is first.\n",
    "\n",
    "Print the city in descending order with respect to the percentage of funding.\n",
    "Output Format :\n",
    "city1 percent1\n",
    "city2 percent2\n",
    "city3 percent3\n",
    ". . . \n",
    ". . .\n",
    ". . .\n"
   ]
  },
  {
   "cell_type": "code",
   "execution_count": 1,
   "id": "c90b7c84",
   "metadata": {},
   "outputs": [],
   "source": [
    "import numpy as np\n",
    "import pandas as pd\n",
    "import matplotlib.pyplot as plt\n",
    "\n",
    "data = pd.read_csv(\"C://Users//91902//Desktop//Datasets//startup_funding.csv\", parse_dates = ['Date'])\n",
    "df = data.copy()"
   ]
  },
  {
   "cell_type": "code",
   "execution_count": 108,
   "id": "3265c9b8",
   "metadata": {},
   "outputs": [],
   "source": [
    "# drop NaN values in city column and reset indexing\n",
    "df.drop(df.index[df['CityLocation'].isnull()], inplace = True)\n",
    "# reset indexcing\n",
    "df.reset_index(inplace = True, drop = True)\n",
    "# fill NaN values with 0 in AmountInUSD column\n",
    "df.loc[df['AmountInUSD'].isnull(), 'AmountInUSD'] = '0'\n",
    "# Take city name \"Delhi\" as \"New Delhi\" and \"bangalore\" as \"Bangalore\".\n",
    "df.loc[df['AmountInUSD'] == 'Delhi', 'AmountInUSD'] = 'New Delhi'\n",
    "df.loc[df['AmountInUSD'] == 'bangalore', 'AmountInUSD'] = 'Bangalore'"
   ]
  },
  {
   "cell_type": "code",
   "execution_count": 119,
   "id": "85347965",
   "metadata": {},
   "outputs": [],
   "source": [
    "city = []\n",
    "for i in df['CityLocation']:\n",
    "    city.append(i)\n",
    "amount = []\n",
    "for i in df['AmountInUSD']:\n",
    "    amount.append(i)\n",
    "for i in range(len(amount)):\n",
    "    amount[i] = ''.join(amount[i].split(','))\n",
    "    city[i] = city[i].split('/')[0].strip()"
   ]
  },
  {
   "cell_type": "code",
   "execution_count": 110,
   "id": "27b8ef0a",
   "metadata": {},
   "outputs": [],
   "source": [
    "#create np array\n",
    "np_city = np.array(city)\n",
    "np_amount = np.array(amount, dtype = 'int64')\n",
    "\n",
    "City = {}\n",
    "for i in range(len(np_city)):\n",
    "    if np_city[i] in City:\n",
    "        City[np_city[i]] += np_amount[i]\n",
    "    else:\n",
    "        City[np_city[i]] = np_amount[i]"
   ]
  },
  {
   "cell_type": "code",
   "execution_count": 111,
   "id": "cb95de2f",
   "metadata": {},
   "outputs": [],
   "source": [
    "x = []\n",
    "y = []\n",
    "for key in City:\n",
    "    x.append(key)\n",
    "    y.append(City[key])\n",
    "\n",
    "np_x = np.array(x)\n",
    "np_y = np.array(y)\n",
    "\n",
    "#sort the np_x by np_y\n",
    "np_x = np_x[np.argsort(np_y)]\n",
    "np_y = np.sort(np_y)"
   ]
  },
  {
   "cell_type": "code",
   "execution_count": 112,
   "id": "25723b87",
   "metadata": {},
   "outputs": [],
   "source": [
    "np_x = np_x[len(np_x)-1: len(np_x) - 11: -1]\n",
    "np_y = np_y[len(np_y)-1: len(np_y) - 11: -1]"
   ]
  },
  {
   "cell_type": "code",
   "execution_count": 113,
   "id": "ec8af996",
   "metadata": {},
   "outputs": [
    {
     "data": {
      "image/png": "[encoded data removed]",
      "text/plain": [
       "<Figure size 432x288 with 1 Axes>"
      ]
     },
     "metadata": {
      "needs_background": "light"
     },
     "output_type": "display_data"
    }
   ],
   "source": [
    "plt.bar(np_x, np_y)\n",
    "plt.xticks(rotation = 40)\n",
    "plt.show()"
   ]
  },
  {
   "cell_type": "code",
   "execution_count": 114,
   "id": "f76ef6ab",
   "metadata": {},
   "outputs": [
    {
     "name": "stdout",
     "output_type": "stream",
     "text": [
      "Bangalore 49.71\n",
      "New Delhi 16.63\n",
      "Mumbai 13.90\n",
      "Gurgaon 12.21\n",
      "Chennai 2.43\n",
      "Pune 2.16\n",
      "Hyderabad 1.15\n",
      "Noida 1.01\n",
      "Ahmedabad 0.58\n",
      "Jaipur 0.21\n"
     ]
    }
   ],
   "source": [
    "for i in range(len(np_x)):\n",
    "    print(np_x[i], format(np_y[i]*100/sum(np_y), '.2f'))"
   ]
  },
  {
   "cell_type": "code",
   "execution_count": 101,
   "id": "fe07d826",
   "metadata": {},
   "outputs": [
    {
     "data": {
      "image/png": "[encoded data removed]",
      "text/plain": [
       "<Figure size 432x288 with 1 Axes>"
      ]
     },
     "metadata": {
      "needs_background": "light"
     },
     "output_type": "display_data"
    },
    {
     "name": "stdout",
     "output_type": "stream",
     "text": [
      "Bangalore 49.71\n",
      "New Delhi 16.63\n",
      "Mumbai 13.90\n",
      "Gurgaon 12.21\n",
      "Chennai 2.43\n",
      "Pune 2.16\n",
      "Hyderabad 1.15\n",
      "Noida 1.01\n",
      "Ahmedabad 0.58\n",
      "Jaipur 0.21\n"
     ]
    }
   ],
   "source": [
    "import numpy as np\n",
    "import pandas as pd\n",
    "import matplotlib.pyplot as plt\n",
    "\n",
    "data = pd.read_csv(\"C://Users//91902//Desktop//Datasets//startup_funding.csv\", parse_dates = ['Date'])\n",
    "df = data.copy()\n",
    "\n",
    "df.drop(df.index[df.CityLocation.isnull()], inplace=True)\n",
    "\n",
    "df.reset_index(inplace=True, drop=True)\n",
    "\n",
    "df.loc[df['AmountInUSD'].isnull(), 'AmountInUSD']='0'\n",
    "df.loc[df.CityLocation=='bangalore','CityLocation']='Bangalore'\n",
    "df.loc[df.CityLocation=='Delhi', 'CityLocation']='New Delhi'\n",
    "\n",
    "\n",
    "city = []\n",
    "for i in df['CityLocation']:\n",
    "    city.append(i)\n",
    "    \n",
    "amount = []\n",
    "for i in df['AmountInUSD']:\n",
    "    amount.append(i)\n",
    "    \n",
    "for i in range(len(amount)):\n",
    "    amount[i] = ''.join(amount[i].split(','))\n",
    "    city[i] = city[i].split('/')[0].strip()\n",
    "    \n",
    "#create np array\n",
    "np_city = np.array(city)\n",
    "np_amount = np.array(amount, dtype = 'int64')\n",
    "\n",
    "City = {}\n",
    "for i in range(len(np_city)):\n",
    "    if np_city[i] in City:\n",
    "        City[np_city[i]] += np_amount[i]\n",
    "    else:\n",
    "        City[np_city[i]] = np_amount[i]\n",
    "        \n",
    "x = []\n",
    "y = []\n",
    "for key in City:\n",
    "    x.append(key)\n",
    "    y.append(City[key])\n",
    "    \n",
    "np_x = np.array(x)\n",
    "np_y = np.array(y)\n",
    "\n",
    "#sort the np_x by np_y\n",
    "np_x = np_x[np.argsort(np_y)]\n",
    "np_y = np.sort(np_y)\n",
    "\n",
    "np_x = np_x[len(np_x)-1: len(np_x) -1 -10: -1]\n",
    "np_y = np_y[len(np_y)-1: len(np_y) -1 -10: -1]\n",
    "\n",
    "plt.bar(np_x, np_y)\n",
    "plt.xticks(rotation = 40)\n",
    "plt.show()\n",
    "\n",
    "for i in range(len(np_x)):\n",
    "    print(np_x[i], format(np_y[i]*100/sum(np_y), '.2f'))"
   ]
  },
  {
   "cell_type": "code",
   "execution_count": 94,
   "id": "1c7268f1",
   "metadata": {},
   "outputs": [
    {
     "data": {
      "image/png": "[encoded data removed]",
      "text/plain": [
       "<Figure size 1080x720 with 1 Axes>"
      ]
     },
     "metadata": {
      "needs_background": "light"
     },
     "output_type": "display_data"
    },
    {
     "name": "stdout",
     "output_type": "stream",
     "text": [
      "Bangalore --> 49.71 Percent\n",
      "New Delhi --> 16.63 Percent\n",
      "Mumbai --> 13.90 Percent\n",
      "Gurgaon --> 12.21 Percent\n",
      "Chennai --> 2.43 Percent\n",
      "Pune --> 2.16 Percent\n",
      "Hyderabad --> 1.15 Percent\n",
      "Noida --> 1.01 Percent\n",
      "Ahmedabad --> 0.58 Percent\n",
      "Jaipur --> 0.21 Percent\n"
     ]
    }
   ],
   "source": [
    "import pandas as pd\n",
    "data=pd.read_csv('C://Users//91902//Desktop//Datasets//startup_funding.csv')\n",
    "df=data.copy()\n",
    "\n",
    "df.drop(df.index[df.CityLocation.isnull()], inplace=True)\n",
    "\n",
    "df.reset_index(inplace=True, drop=True)\n",
    "\n",
    "df.loc[df['AmountInUSD'].isnull(), 'AmountInUSD']='0'\n",
    "df.loc[df.CityLocation=='bangalore','CityLocation']='Bangalore'\n",
    "df.loc[df.CityLocation=='Delhi', 'CityLocation']='New Delhi'\n",
    "city=[]\n",
    "amount=[]\n",
    "for i in df.CityLocation:\n",
    "    city.append(i)\n",
    "for i in df.AmountInUSD:\n",
    "    amount.append(i)\n",
    "\n",
    "for i in range(len(amount)):\n",
    "    amount[i]=''.join(amount[i].split(','))\n",
    "    city[i]=city[i].split('/')[0].strip()\n",
    "np_amount=np.array(amount, dtype='int64')\n",
    "np_city=np.array(city)\n",
    "\n",
    "dic=dict()\n",
    "for i in range(len(np_city)):\n",
    "    if np_city[i] in dic:\n",
    "        dic[np_city[i]]+=np_amount[i]\n",
    "    else:\n",
    "        dic[np_city[i]]=np_amount[i]\n",
    "xaxis=list(dic.keys())\n",
    "yaxis=list(dic.values())\n",
    "\n",
    "np_xaxis=np.array(xaxis)\n",
    "np_yaxis=np.array(yaxis)\n",
    "\n",
    "np_xaxis=np_xaxis[np.argsort(np_yaxis)]\n",
    "np_yaxis=np.sort(np_yaxis)\n",
    "\n",
    "np_xaxis=np_xaxis[len(np_xaxis)-1:len(np_xaxis)-1-10:-1]\n",
    "np_yaxis=np_yaxis[len(np_yaxis)-1:len(np_yaxis)-1-10:-1]\n",
    "\n",
    "plt.subplots(figsize=(15, 10))\n",
    "\n",
    "plt.bar(np_xaxis, np_yaxis, color='red')\n",
    "plt.xticks(rotation=45, size=16)\n",
    "plt.yticks(size=16)\n",
    "plt.xlabel('City--->', size=16)\n",
    "plt.ylabel('Funding--->', size=16)\n",
    "plt.show()\n",
    "\n",
    "for i in range(len(np_xaxis)):\n",
    "    print(np_xaxis[i],'-->', format((np_yaxis[i]*100)/sum(np_yaxis), '.2f'), 'Percent')\n"
   ]
  },
  {
   "cell_type": "markdown",
   "id": "cf7ada64",
   "metadata": {},
   "source": [
    "# Ass-4 [Investment Type]"
   ]
  },
  {
   "cell_type": "markdown",
   "id": "e52cf71c",
   "metadata": {},
   "source": [
    "Given File 'startup_funding.csv'\n",
    "\n",
    "Problem Statement :\n",
    "There are 4 different type of investments. Find out percentage of amount \n",
    "funded for each investment type.\n",
    "\n",
    "Plot a pie chart to visualise.\n",
    "\n",
    "Print the investment type and percentage of amount funded with 2 decimal places after rounding off.\n",
    "\n",
    "Note :\n",
    "Correct spelling of investment types are - \n",
    "\n",
    "\"Private Equity\", \"Seed Funding\", \"Debt Funding\", and \"Crowd Funding\".\n",
    "\n",
    "Keep an eye for any spelling mistake. You can find this by printing unique values from this column.\n",
    "\n",
    "Print the investment type in descending order with respect to the percentage of the amount funded.\n",
    "\n",
    "Output Format :\n",
    "investmentType1 percent1\n",
    "investmentType2 percent2\n",
    "investmentType3 percent3\n",
    ". . . \n"
   ]
  },
  {
   "cell_type": "code",
   "execution_count": 133,
   "id": "d622d73e",
   "metadata": {},
   "outputs": [],
   "source": [
    "import numpy as np\n",
    "import pandas as pd\n",
    "import matplotlib.pyplot as plt\n",
    "\n",
    "data = pd.read_csv(\"C://Users//91902//Desktop//Datasets//startup_funding.csv\", parse_dates = ['Date'])\n",
    "df = data.copy()"
   ]
  },
  {
   "cell_type": "code",
   "execution_count": 134,
   "id": "49bfa010",
   "metadata": {},
   "outputs": [
    {
     "data": {
      "text/html": [
       "<div>\n",
       "<style scoped>\n",
       "    .dataframe tbody tr th:only-of-type {\n",
       "        vertical-align: middle;\n",
       "    }\n",
       "\n",
       "    .dataframe tbody tr th {\n",
       "        vertical-align: top;\n",
       "    }\n",
       "\n",
       "    .dataframe thead th {\n",
       "        text-align: right;\n",
       "    }\n",
       "</style>\n",
       "<table border=\"1\" class=\"dataframe\">\n",
       "  <thead>\n",
       "    <tr style=\"text-align: right;\">\n",
       "      <th></th>\n",
       "      <th>SNo</th>\n",
       "      <th>Date</th>\n",
       "      <th>StartupName</th>\n",
       "      <th>IndustryVertical</th>\n",
       "      <th>SubVertical</th>\n",
       "      <th>CityLocation</th>\n",
       "      <th>InvestorsName</th>\n",
       "      <th>InvestmentType</th>\n",
       "      <th>AmountInUSD</th>\n",
       "      <th>Remarks</th>\n",
       "    </tr>\n",
       "  </thead>\n",
       "  <tbody>\n",
       "    <tr>\n",
       "      <th>0</th>\n",
       "      <td>0</td>\n",
       "      <td>01/08/2017</td>\n",
       "      <td>TouchKin</td>\n",
       "      <td>Technology</td>\n",
       "      <td>Predictive Care Platform</td>\n",
       "      <td>Bangalore</td>\n",
       "      <td>Kae Capital</td>\n",
       "      <td>Private Equity</td>\n",
       "      <td>1,300,000</td>\n",
       "      <td>NaN</td>\n",
       "    </tr>\n",
       "    <tr>\n",
       "      <th>1</th>\n",
       "      <td>1</td>\n",
       "      <td>02/08/2017</td>\n",
       "      <td>Ethinos</td>\n",
       "      <td>Technology</td>\n",
       "      <td>Digital Marketing Agency</td>\n",
       "      <td>Mumbai</td>\n",
       "      <td>Triton Investment Advisors</td>\n",
       "      <td>Private Equity</td>\n",
       "      <td>NaN</td>\n",
       "      <td>NaN</td>\n",
       "    </tr>\n",
       "    <tr>\n",
       "      <th>2</th>\n",
       "      <td>2</td>\n",
       "      <td>02/08/2017</td>\n",
       "      <td>Leverage Edu</td>\n",
       "      <td>Consumer Internet</td>\n",
       "      <td>Online platform for Higher Education Services</td>\n",
       "      <td>New Delhi</td>\n",
       "      <td>Kashyap Deorah, Anand Sankeshwar, Deepak Jain,...</td>\n",
       "      <td>Seed Funding</td>\n",
       "      <td>NaN</td>\n",
       "      <td>NaN</td>\n",
       "    </tr>\n",
       "    <tr>\n",
       "      <th>3</th>\n",
       "      <td>3</td>\n",
       "      <td>02/08/2017</td>\n",
       "      <td>Zepo</td>\n",
       "      <td>Consumer Internet</td>\n",
       "      <td>DIY Ecommerce platform</td>\n",
       "      <td>Mumbai</td>\n",
       "      <td>Kunal Shah, LetsVenture, Anupam Mittal, Hetal ...</td>\n",
       "      <td>Seed Funding</td>\n",
       "      <td>500,000</td>\n",
       "      <td>NaN</td>\n",
       "    </tr>\n",
       "    <tr>\n",
       "      <th>4</th>\n",
       "      <td>4</td>\n",
       "      <td>02/08/2017</td>\n",
       "      <td>Click2Clinic</td>\n",
       "      <td>Consumer Internet</td>\n",
       "      <td>healthcare service aggregator</td>\n",
       "      <td>Hyderabad</td>\n",
       "      <td>Narottam Thudi, Shireesh Palle</td>\n",
       "      <td>Seed Funding</td>\n",
       "      <td>850,000</td>\n",
       "      <td>NaN</td>\n",
       "    </tr>\n",
       "  </tbody>\n",
       "</table>\n",
       "</div>"
      ],
      "text/plain": [
       "   SNo        Date   StartupName   IndustryVertical  \\\n",
       "0    0  01/08/2017      TouchKin         Technology   \n",
       "1    1  02/08/2017       Ethinos         Technology   \n",
       "2    2  02/08/2017  Leverage Edu  Consumer Internet   \n",
       "3    3  02/08/2017          Zepo  Consumer Internet   \n",
       "4    4  02/08/2017  Click2Clinic  Consumer Internet   \n",
       "\n",
       "                                     SubVertical CityLocation  \\\n",
       "0                       Predictive Care Platform    Bangalore   \n",
       "1                       Digital Marketing Agency       Mumbai   \n",
       "2  Online platform for Higher Education Services    New Delhi   \n",
       "3                         DIY Ecommerce platform       Mumbai   \n",
       "4                  healthcare service aggregator    Hyderabad   \n",
       "\n",
       "                                       InvestorsName  InvestmentType  \\\n",
       "0                                        Kae Capital  Private Equity   \n",
       "1                         Triton Investment Advisors  Private Equity   \n",
       "2  Kashyap Deorah, Anand Sankeshwar, Deepak Jain,...    Seed Funding   \n",
       "3  Kunal Shah, LetsVenture, Anupam Mittal, Hetal ...    Seed Funding   \n",
       "4                     Narottam Thudi, Shireesh Palle    Seed Funding   \n",
       "\n",
       "  AmountInUSD Remarks  \n",
       "0   1,300,000     NaN  \n",
       "1         NaN     NaN  \n",
       "2         NaN     NaN  \n",
       "3     500,000     NaN  \n",
       "4     850,000     NaN  "
      ]
     },
     "execution_count": 134,
     "metadata": {},
     "output_type": "execute_result"
    }
   ],
   "source": [
    "df.head()"
   ]
  },
  {
   "cell_type": "code",
   "execution_count": 135,
   "id": "d7df7647",
   "metadata": {},
   "outputs": [
    {
     "data": {
      "text/plain": [
       "array(['Private Equity', 'Seed Funding', 'Debt Funding', nan,\n",
       "       'SeedFunding', 'PrivateEquity', 'Crowd funding', 'Crowd Funding'],\n",
       "      dtype=object)"
      ]
     },
     "execution_count": 135,
     "metadata": {},
     "output_type": "execute_result"
    }
   ],
   "source": [
    "df.InvestmentType.unique()"
   ]
  },
  {
   "cell_type": "code",
   "execution_count": null,
   "id": "8eab9212",
   "metadata": {},
   "outputs": [],
   "source": [
    "\"Private Equity\", \"Seed Funding\", \"Debt Funding\", and \"Crowd Funding\"."
   ]
  },
  {
   "cell_type": "code",
   "execution_count": 136,
   "id": "45bc84a6",
   "metadata": {},
   "outputs": [],
   "source": [
    "# delete nan values index wise\n",
    "df.drop(df.index[df.InvestmentType.isnull()], inplace = True)\n",
    "df.reset_index(inplace = True, drop = True)"
   ]
  },
  {
   "cell_type": "code",
   "execution_count": 137,
   "id": "ead48d0e",
   "metadata": {},
   "outputs": [],
   "source": [
    "# handle spelling mistakes\n",
    "df.loc[df.InvestmentType == 'PrivateEquity', 'InvestmentType'] = \"Private Equity\"\n",
    "df.loc[df.InvestmentType == 'SeedFunding', 'InvestmentType'] = \"Seed Funding\"\n",
    "df.loc[df.InvestmentType == 'Crowd funding', 'InvestmentType'] = \"Crowd Funding\""
   ]
  },
  {
   "cell_type": "code",
   "execution_count": 140,
   "id": "53186d44",
   "metadata": {},
   "outputs": [],
   "source": [
    "# replace NaN values with 0 in amount column\n",
    "df.loc[df.AmountInUSD.isnull(), 'AmountInUSD'] = '0'"
   ]
  },
  {
   "cell_type": "code",
   "execution_count": 150,
   "id": "9a4de5d7",
   "metadata": {},
   "outputs": [
    {
     "name": "stdout",
     "output_type": "stream",
     "text": [
      "2371\n"
     ]
    },
    {
     "data": {
      "text/plain": [
       "2371"
      ]
     },
     "execution_count": 150,
     "metadata": {},
     "output_type": "execute_result"
    }
   ],
   "source": [
    "funding = []\n",
    "for i in df.InvestmentType:\n",
    "    funding.append(i)\n",
    "\n",
    "amount = []\n",
    "for i in df.AmountInUSD:\n",
    "    #print(type(i))\n",
    "    amount.append(i)\n",
    "\n",
    "#handle space\n",
    "for i in range(len(amount)):\n",
    "    amount[i] = ''.join(amount[i].split(','))"
   ]
  },
  {
   "cell_type": "code",
   "execution_count": 154,
   "id": "23423c7c",
   "metadata": {},
   "outputs": [],
   "source": [
    "np_amount = np.array(amount, dtype = 'int64')\n",
    "np_fund = np.array(funding)\n",
    "\n",
    "fund = {}\n",
    "for i in range(len(np_fund)):\n",
    "    if np_fund[i] in fund:\n",
    "        fund[np_fund[i]] += np_amount[i]\n",
    "    else:\n",
    "        fund[np_fund[i]] = np_amount[i]"
   ]
  },
  {
   "cell_type": "code",
   "execution_count": 158,
   "id": "7e326bd6",
   "metadata": {},
   "outputs": [],
   "source": [
    "x = list(fund.keys())\n",
    "y = list(fund.values())\n",
    "np_x = np.array(x)\n",
    "np_y = np.array(y)"
   ]
  },
  {
   "cell_type": "code",
   "execution_count": 160,
   "id": "c8141b18",
   "metadata": {},
   "outputs": [],
   "source": [
    "#sort np_x using np_y\n",
    "np_x = np_x[np.argsort(np_y)]\n",
    "np_y = np.sort(np_y)"
   ]
  },
  {
   "cell_type": "code",
   "execution_count": 178,
   "id": "13b92035",
   "metadata": {},
   "outputs": [
    {
     "data": {
      "image/png": "[encoded data removed]",
      "text/plain": [
       "<Figure size 432x288 with 1 Axes>"
      ]
     },
     "metadata": {},
     "output_type": "display_data"
    }
   ],
   "source": [
    "explode = [5,2,2,2]\n",
    "plt.pie(np_y, labels = np_x, explode = explode, autopct = \"%.2f%%\", radius = 2)\n",
    "plt.show()"
   ]
  },
  {
   "cell_type": "code",
   "execution_count": 182,
   "id": "4fa765e6",
   "metadata": {},
   "outputs": [
    {
     "name": "stdout",
     "output_type": "stream",
     "text": [
      "Private Equity 98.15\n",
      "Seed Funding 1.81\n",
      "Debt Funding 0.04\n",
      "Crowd Funding 0.00\n"
     ]
    }
   ],
   "source": [
    "for i in range(len(np_x)-1, -1, -1):\n",
    "    print(np_x[i], format(np_y[i]*100/sum(np_y), '.2f'))"
   ]
  },
  {
   "cell_type": "code",
   "execution_count": 190,
   "id": "42524e08",
   "metadata": {},
   "outputs": [
    {
     "data": {
      "image/png": "[encoded data removed]",
      "text/plain": [
       "<Figure size 432x288 with 1 Axes>"
      ]
     },
     "metadata": {},
     "output_type": "display_data"
    },
    {
     "name": "stdout",
     "output_type": "stream",
     "text": [
      "Private Equity 98.15\n",
      "Seed Funding 1.81\n",
      "Debt Funding 0.04\n",
      "Crowd Funding 0.00\n"
     ]
    }
   ],
   "source": [
    "import numpy as np\n",
    "import pandas as pd\n",
    "import matplotlib.pyplot as plt\n",
    "\n",
    "data = pd.read_csv(\"C://Users//91902//Desktop//Datasets//startup_funding.csv\", parse_dates = ['Date'])\n",
    "df = data.copy()\n",
    "\n",
    "# delete nan values index wise\n",
    "df.drop(df.index[df.InvestmentType.isnull()], inplace = True)\n",
    "df.reset_index(inplace = True, drop = True)\n",
    "\n",
    "# handle spelling mistakes\n",
    "df.loc[df.InvestmentType == 'PrivateEquity', 'InvestmentType'] = \"Private Equity\"\n",
    "df.loc[df.InvestmentType == 'SeedFunding', 'InvestmentType'] = \"Seed Funding\"\n",
    "df.loc[df.InvestmentType == 'Crowd funding', 'InvestmentType'] = \"Crowd Funding\"\n",
    "\n",
    "# replace NaN values with 0 in amount column\n",
    "df.loc[df.AmountInUSD.isnull(), 'AmountInUSD'] = '0'\n",
    "\n",
    "funding = []\n",
    "for i in df.InvestmentType:\n",
    "    funding.append(i)\n",
    "\n",
    "amount = []\n",
    "for i in df.AmountInUSD:\n",
    "    amount.append(i)\n",
    "\n",
    "#handle space\n",
    "for i in range(len(amount)):\n",
    "    amount[i] = ''.join(amount[i].split(','))\n",
    "    \n",
    "np_amount = np.array(amount, dtype = 'int64')\n",
    "np_fund = np.array(funding)\n",
    "\n",
    "fund = {}\n",
    "for i in range(len(np_fund)):\n",
    "    if np_fund[i] in fund:\n",
    "        fund[np_fund[i]] += np_amount[i]\n",
    "    else:\n",
    "        fund[np_fund[i]] = np_amount[i]\n",
    "    \n",
    "x = list(fund.keys())\n",
    "y = list(fund.values())\n",
    "np_x = np.array(x)\n",
    "np_y = np.array(y)\n",
    "\n",
    "#sort np_x using np_y\n",
    "np_x = np_x[np.argsort(np_y)]\n",
    "np_y = np.sort(np_y)\n",
    "\n",
    "explode = [0,1,1,1]\n",
    "plt.pie(np_y, labels = np_x, explode = explode, autopct = \"%.2f%%\", radius = 1.5)\n",
    "plt.show()\n",
    "\n",
    "for i in range(len(np_x)-1, -1, -1):\n",
    "    print(np_x[i], format(np_y[i]*100/sum(np_y), '.2f'))"
   ]
  },
  {
   "cell_type": "code",
   "execution_count": null,
   "id": "94fe9e6f",
   "metadata": {},
   "outputs": [],
   "source": []
  }
 ],
 "metadata": {
  "kernelspec": {
   "display_name": "Python 3",
   "language": "python",
   "name": "python3"
  },
  "language_info": {
   "codemirror_mode": {
    "name": "ipython",
    "version": 3
   },
   "file_extension": ".py",
   "mimetype": "text/x-python",
   "name": "python",
   "nbconvert_exporter": "python",
   "pygments_lexer": "ipython3",
   "version": "3.8.8"
  }
 },
 "nbformat": 4,
 "nbformat_minor": 5
}
